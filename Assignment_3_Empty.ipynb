{
  "cells": [
    {
      "cell_type": "markdown",
      "id": "43554d37",
      "metadata": {
        "id": "43554d37"
      },
      "source": [
        "# Turing Machine and Deep Learning 2023\n",
        "\n",
        "## Assignment Unupervised ML\n",
        "\n",
        "This notebook is meant for you to review and reflect on the content of Lecture 3, which was mainly about unsupervised learning problems. As with last week, this notebook should not be too much quantitative work (lines of code) but keep in mind that running this notebook may take a longer time than you may be used to for python programs (*training good models take time!*) \n",
        "\n",
        "### Handing in your Assignment\n",
        "\n",
        "Git is an invaluable resource to researchers and developers, and thus for this course, all course material will be (additionally) shared on GitHub. Though there is a tiny bit of a learning curve, this is worth the effort. To hand in your assignment (applicable to all weeks):\n",
        "\n",
        "1. Create a folder called \"Week 2\" and copy this notebook and any other files or data that may be needed.\n",
        "2. Finish the notebook and commit and push regularly. Your final commit before the deadline will be graded. \n",
        "\n",
        "\n",
        "### Grading\n",
        "\n",
        "Each one of the (sub-)questions below will be graded either 0 (insufficient), 1 (sufficient) or 2 (good). If $N$ is the number of sub-questions, and $p_i$ is your score for sub-question $i$, your total grade $G$ for this assignment is:\n",
        "$$G=\\frac{1}{2 N}\\sum_{i=0}^{N}p_i$$"
      ]
    },
    {
      "cell_type": "code",
      "execution_count": 2,
      "id": "52fbab8b",
      "metadata": {
        "id": "52fbab8b"
      },
      "outputs": [],
      "source": [
        "# load common libraries\n",
        "import numpy as np                 # maths\n",
        "import matplotlib.pyplot as plt    # plotting\n",
        "import pandas as pd                # data manipulation\n",
        "from tqdm import tqdm              # loading bar\n",
        "from time import perf_counter      # timer"
      ]
    },
    {
      "cell_type": "markdown",
      "id": "bf4c3a0a",
      "metadata": {
        "id": "bf4c3a0a"
      },
      "source": [
        "# Q1 Loading and preprocessing data\n",
        "\n",
        "In this repository, you should find a file called `tmdb_5000_movies.csv` which is information from a subset of movies on The Movie Database."
      ]
    },
    {
      "cell_type": "markdown",
      "source": [
        "**NOTE: CHAT GPT HELPED ME A LOT DURING THIS ONE, AS DID THE COMMANDS IN THE LECTURE FILE.**\n",
        "Still, I'm under a lot of time constraints due to the other 3 courses I'm taking. I did not have the time to run everything, as much as I wanted to."
      ],
      "metadata": {
        "id": "UY-udra0oAv8"
      },
      "id": "UY-udra0oAv8"
    },
    {
      "cell_type": "markdown",
      "id": "40715541",
      "metadata": {
        "id": "40715541"
      },
      "source": [
        "### Q.1.1 \n",
        "Use pandas to read in the csv file (refer to [read_csv](https://pandas.pydata.org/docs/reference/api/pandas.read_csv.html) if you're unfamiliar)."
      ]
    },
    {
      "cell_type": "code",
      "execution_count": 3,
      "id": "c10a5202",
      "metadata": {
        "colab": {
          "base_uri": "https://localhost:8080/",
          "height": 1000
        },
        "id": "c10a5202",
        "outputId": "55015384-76bb-4be7-f8d0-48f51dfeed0a"
      },
      "outputs": [
        {
          "output_type": "execute_result",
          "data": {
            "text/plain": [
              "         budget                                             genres  \\\n",
              "0     237000000  [{\"id\": 28, \"name\": \"Action\"}, {\"id\": 12, \"nam...   \n",
              "1     300000000  [{\"id\": 12, \"name\": \"Adventure\"}, {\"id\": 14, \"...   \n",
              "2     245000000  [{\"id\": 28, \"name\": \"Action\"}, {\"id\": 12, \"nam...   \n",
              "3     250000000  [{\"id\": 28, \"name\": \"Action\"}, {\"id\": 80, \"nam...   \n",
              "4     260000000  [{\"id\": 28, \"name\": \"Action\"}, {\"id\": 12, \"nam...   \n",
              "...         ...                                                ...   \n",
              "4798     220000  [{\"id\": 28, \"name\": \"Action\"}, {\"id\": 80, \"nam...   \n",
              "4799       9000  [{\"id\": 35, \"name\": \"Comedy\"}, {\"id\": 10749, \"...   \n",
              "4800          0  [{\"id\": 35, \"name\": \"Comedy\"}, {\"id\": 18, \"nam...   \n",
              "4801          0                                                 []   \n",
              "4802          0                [{\"id\": 99, \"name\": \"Documentary\"}]   \n",
              "\n",
              "                                               homepage      id  \\\n",
              "0                           http://www.avatarmovie.com/   19995   \n",
              "1          http://disney.go.com/disneypictures/pirates/     285   \n",
              "2           http://www.sonypictures.com/movies/spectre/  206647   \n",
              "3                    http://www.thedarkknightrises.com/   49026   \n",
              "4                  http://movies.disney.com/john-carter   49529   \n",
              "...                                                 ...     ...   \n",
              "4798                                                NaN    9367   \n",
              "4799                                                NaN   72766   \n",
              "4800  http://www.hallmarkchannel.com/signedsealeddel...  231617   \n",
              "4801                        http://shanghaicalling.com/  126186   \n",
              "4802                                                NaN   25975   \n",
              "\n",
              "                                               keywords original_language  \\\n",
              "0     [{\"id\": 1463, \"name\": \"culture clash\"}, {\"id\":...                en   \n",
              "1     [{\"id\": 270, \"name\": \"ocean\"}, {\"id\": 726, \"na...                en   \n",
              "2     [{\"id\": 470, \"name\": \"spy\"}, {\"id\": 818, \"name...                en   \n",
              "3     [{\"id\": 849, \"name\": \"dc comics\"}, {\"id\": 853,...                en   \n",
              "4     [{\"id\": 818, \"name\": \"based on novel\"}, {\"id\":...                en   \n",
              "...                                                 ...               ...   \n",
              "4798  [{\"id\": 5616, \"name\": \"united states\\u2013mexi...                es   \n",
              "4799                                                 []                en   \n",
              "4800  [{\"id\": 248, \"name\": \"date\"}, {\"id\": 699, \"nam...                en   \n",
              "4801                                                 []                en   \n",
              "4802  [{\"id\": 1523, \"name\": \"obsession\"}, {\"id\": 224...                en   \n",
              "\n",
              "                                original_title  \\\n",
              "0                                       Avatar   \n",
              "1     Pirates of the Caribbean: At World's End   \n",
              "2                                      Spectre   \n",
              "3                        The Dark Knight Rises   \n",
              "4                                  John Carter   \n",
              "...                                        ...   \n",
              "4798                               El Mariachi   \n",
              "4799                                 Newlyweds   \n",
              "4800                 Signed, Sealed, Delivered   \n",
              "4801                          Shanghai Calling   \n",
              "4802                         My Date with Drew   \n",
              "\n",
              "                                               overview  popularity  \\\n",
              "0     In the 22nd century, a paraplegic Marine is di...  150.437577   \n",
              "1     Captain Barbossa, long believed to be dead, ha...  139.082615   \n",
              "2     A cryptic message from Bond’s past sends him o...  107.376788   \n",
              "3     Following the death of District Attorney Harve...  112.312950   \n",
              "4     John Carter is a war-weary, former military ca...   43.926995   \n",
              "...                                                 ...         ...   \n",
              "4798  El Mariachi just wants to play his guitar and ...   14.269792   \n",
              "4799  A newlywed couple's honeymoon is upended by th...    0.642552   \n",
              "4800  \"Signed, Sealed, Delivered\" introduces a dedic...    1.444476   \n",
              "4801  When ambitious New York attorney Sam is sent t...    0.857008   \n",
              "4802  Ever since the second grade when he first saw ...    1.929883   \n",
              "\n",
              "                                   production_companies  \\\n",
              "0     [{\"name\": \"Ingenious Film Partners\", \"id\": 289...   \n",
              "1     [{\"name\": \"Walt Disney Pictures\", \"id\": 2}, {\"...   \n",
              "2     [{\"name\": \"Columbia Pictures\", \"id\": 5}, {\"nam...   \n",
              "3     [{\"name\": \"Legendary Pictures\", \"id\": 923}, {\"...   \n",
              "4           [{\"name\": \"Walt Disney Pictures\", \"id\": 2}]   \n",
              "...                                                 ...   \n",
              "4798           [{\"name\": \"Columbia Pictures\", \"id\": 5}]   \n",
              "4799                                                 []   \n",
              "4800  [{\"name\": \"Front Street Pictures\", \"id\": 3958}...   \n",
              "4801                                                 []   \n",
              "4802  [{\"name\": \"rusty bear entertainment\", \"id\": 87...   \n",
              "\n",
              "                                   production_countries release_date  \\\n",
              "0     [{\"iso_3166_1\": \"US\", \"name\": \"United States o...   2009-12-10   \n",
              "1     [{\"iso_3166_1\": \"US\", \"name\": \"United States o...   2007-05-19   \n",
              "2     [{\"iso_3166_1\": \"GB\", \"name\": \"United Kingdom\"...   2015-10-26   \n",
              "3     [{\"iso_3166_1\": \"US\", \"name\": \"United States o...   2012-07-16   \n",
              "4     [{\"iso_3166_1\": \"US\", \"name\": \"United States o...   2012-03-07   \n",
              "...                                                 ...          ...   \n",
              "4798  [{\"iso_3166_1\": \"MX\", \"name\": \"Mexico\"}, {\"iso...   1992-09-04   \n",
              "4799                                                 []   2011-12-26   \n",
              "4800  [{\"iso_3166_1\": \"US\", \"name\": \"United States o...   2013-10-13   \n",
              "4801  [{\"iso_3166_1\": \"US\", \"name\": \"United States o...   2012-05-03   \n",
              "4802  [{\"iso_3166_1\": \"US\", \"name\": \"United States o...   2005-08-05   \n",
              "\n",
              "         revenue  runtime                                   spoken_languages  \\\n",
              "0     2787965087    162.0  [{\"iso_639_1\": \"en\", \"name\": \"English\"}, {\"iso...   \n",
              "1      961000000    169.0           [{\"iso_639_1\": \"en\", \"name\": \"English\"}]   \n",
              "2      880674609    148.0  [{\"iso_639_1\": \"fr\", \"name\": \"Fran\\u00e7ais\"},...   \n",
              "3     1084939099    165.0           [{\"iso_639_1\": \"en\", \"name\": \"English\"}]   \n",
              "4      284139100    132.0           [{\"iso_639_1\": \"en\", \"name\": \"English\"}]   \n",
              "...          ...      ...                                                ...   \n",
              "4798     2040920     81.0      [{\"iso_639_1\": \"es\", \"name\": \"Espa\\u00f1ol\"}]   \n",
              "4799           0     85.0                                                 []   \n",
              "4800           0    120.0           [{\"iso_639_1\": \"en\", \"name\": \"English\"}]   \n",
              "4801           0     98.0           [{\"iso_639_1\": \"en\", \"name\": \"English\"}]   \n",
              "4802           0     90.0           [{\"iso_639_1\": \"en\", \"name\": \"English\"}]   \n",
              "\n",
              "        status                                            tagline  \\\n",
              "0     Released                        Enter the World of Pandora.   \n",
              "1     Released     At the end of the world, the adventure begins.   \n",
              "2     Released                              A Plan No One Escapes   \n",
              "3     Released                                    The Legend Ends   \n",
              "4     Released               Lost in our world, found in another.   \n",
              "...        ...                                                ...   \n",
              "4798  Released  He didn't come looking for trouble, but troubl...   \n",
              "4799  Released  A newlywed couple's honeymoon is upended by th...   \n",
              "4800  Released                                                NaN   \n",
              "4801  Released                           A New Yorker in Shanghai   \n",
              "4802  Released                                                NaN   \n",
              "\n",
              "                                         title  vote_average  vote_count  \n",
              "0                                       Avatar           7.2       11800  \n",
              "1     Pirates of the Caribbean: At World's End           6.9        4500  \n",
              "2                                      Spectre           6.3        4466  \n",
              "3                        The Dark Knight Rises           7.6        9106  \n",
              "4                                  John Carter           6.1        2124  \n",
              "...                                        ...           ...         ...  \n",
              "4798                               El Mariachi           6.6         238  \n",
              "4799                                 Newlyweds           5.9           5  \n",
              "4800                 Signed, Sealed, Delivered           7.0           6  \n",
              "4801                          Shanghai Calling           5.7           7  \n",
              "4802                         My Date with Drew           6.3          16  \n",
              "\n",
              "[4803 rows x 20 columns]"
            ],
            "text/html": [
              "\n",
              "  <div id=\"df-5dcaf31b-0e37-4d9f-aae5-ac479e9fda95\">\n",
              "    <div class=\"colab-df-container\">\n",
              "      <div>\n",
              "<style scoped>\n",
              "    .dataframe tbody tr th:only-of-type {\n",
              "        vertical-align: middle;\n",
              "    }\n",
              "\n",
              "    .dataframe tbody tr th {\n",
              "        vertical-align: top;\n",
              "    }\n",
              "\n",
              "    .dataframe thead th {\n",
              "        text-align: right;\n",
              "    }\n",
              "</style>\n",
              "<table border=\"1\" class=\"dataframe\">\n",
              "  <thead>\n",
              "    <tr style=\"text-align: right;\">\n",
              "      <th></th>\n",
              "      <th>budget</th>\n",
              "      <th>genres</th>\n",
              "      <th>homepage</th>\n",
              "      <th>id</th>\n",
              "      <th>keywords</th>\n",
              "      <th>original_language</th>\n",
              "      <th>original_title</th>\n",
              "      <th>overview</th>\n",
              "      <th>popularity</th>\n",
              "      <th>production_companies</th>\n",
              "      <th>production_countries</th>\n",
              "      <th>release_date</th>\n",
              "      <th>revenue</th>\n",
              "      <th>runtime</th>\n",
              "      <th>spoken_languages</th>\n",
              "      <th>status</th>\n",
              "      <th>tagline</th>\n",
              "      <th>title</th>\n",
              "      <th>vote_average</th>\n",
              "      <th>vote_count</th>\n",
              "    </tr>\n",
              "  </thead>\n",
              "  <tbody>\n",
              "    <tr>\n",
              "      <th>0</th>\n",
              "      <td>237000000</td>\n",
              "      <td>[{\"id\": 28, \"name\": \"Action\"}, {\"id\": 12, \"nam...</td>\n",
              "      <td>http://www.avatarmovie.com/</td>\n",
              "      <td>19995</td>\n",
              "      <td>[{\"id\": 1463, \"name\": \"culture clash\"}, {\"id\":...</td>\n",
              "      <td>en</td>\n",
              "      <td>Avatar</td>\n",
              "      <td>In the 22nd century, a paraplegic Marine is di...</td>\n",
              "      <td>150.437577</td>\n",
              "      <td>[{\"name\": \"Ingenious Film Partners\", \"id\": 289...</td>\n",
              "      <td>[{\"iso_3166_1\": \"US\", \"name\": \"United States o...</td>\n",
              "      <td>2009-12-10</td>\n",
              "      <td>2787965087</td>\n",
              "      <td>162.0</td>\n",
              "      <td>[{\"iso_639_1\": \"en\", \"name\": \"English\"}, {\"iso...</td>\n",
              "      <td>Released</td>\n",
              "      <td>Enter the World of Pandora.</td>\n",
              "      <td>Avatar</td>\n",
              "      <td>7.2</td>\n",
              "      <td>11800</td>\n",
              "    </tr>\n",
              "    <tr>\n",
              "      <th>1</th>\n",
              "      <td>300000000</td>\n",
              "      <td>[{\"id\": 12, \"name\": \"Adventure\"}, {\"id\": 14, \"...</td>\n",
              "      <td>http://disney.go.com/disneypictures/pirates/</td>\n",
              "      <td>285</td>\n",
              "      <td>[{\"id\": 270, \"name\": \"ocean\"}, {\"id\": 726, \"na...</td>\n",
              "      <td>en</td>\n",
              "      <td>Pirates of the Caribbean: At World's End</td>\n",
              "      <td>Captain Barbossa, long believed to be dead, ha...</td>\n",
              "      <td>139.082615</td>\n",
              "      <td>[{\"name\": \"Walt Disney Pictures\", \"id\": 2}, {\"...</td>\n",
              "      <td>[{\"iso_3166_1\": \"US\", \"name\": \"United States o...</td>\n",
              "      <td>2007-05-19</td>\n",
              "      <td>961000000</td>\n",
              "      <td>169.0</td>\n",
              "      <td>[{\"iso_639_1\": \"en\", \"name\": \"English\"}]</td>\n",
              "      <td>Released</td>\n",
              "      <td>At the end of the world, the adventure begins.</td>\n",
              "      <td>Pirates of the Caribbean: At World's End</td>\n",
              "      <td>6.9</td>\n",
              "      <td>4500</td>\n",
              "    </tr>\n",
              "    <tr>\n",
              "      <th>2</th>\n",
              "      <td>245000000</td>\n",
              "      <td>[{\"id\": 28, \"name\": \"Action\"}, {\"id\": 12, \"nam...</td>\n",
              "      <td>http://www.sonypictures.com/movies/spectre/</td>\n",
              "      <td>206647</td>\n",
              "      <td>[{\"id\": 470, \"name\": \"spy\"}, {\"id\": 818, \"name...</td>\n",
              "      <td>en</td>\n",
              "      <td>Spectre</td>\n",
              "      <td>A cryptic message from Bond’s past sends him o...</td>\n",
              "      <td>107.376788</td>\n",
              "      <td>[{\"name\": \"Columbia Pictures\", \"id\": 5}, {\"nam...</td>\n",
              "      <td>[{\"iso_3166_1\": \"GB\", \"name\": \"United Kingdom\"...</td>\n",
              "      <td>2015-10-26</td>\n",
              "      <td>880674609</td>\n",
              "      <td>148.0</td>\n",
              "      <td>[{\"iso_639_1\": \"fr\", \"name\": \"Fran\\u00e7ais\"},...</td>\n",
              "      <td>Released</td>\n",
              "      <td>A Plan No One Escapes</td>\n",
              "      <td>Spectre</td>\n",
              "      <td>6.3</td>\n",
              "      <td>4466</td>\n",
              "    </tr>\n",
              "    <tr>\n",
              "      <th>3</th>\n",
              "      <td>250000000</td>\n",
              "      <td>[{\"id\": 28, \"name\": \"Action\"}, {\"id\": 80, \"nam...</td>\n",
              "      <td>http://www.thedarkknightrises.com/</td>\n",
              "      <td>49026</td>\n",
              "      <td>[{\"id\": 849, \"name\": \"dc comics\"}, {\"id\": 853,...</td>\n",
              "      <td>en</td>\n",
              "      <td>The Dark Knight Rises</td>\n",
              "      <td>Following the death of District Attorney Harve...</td>\n",
              "      <td>112.312950</td>\n",
              "      <td>[{\"name\": \"Legendary Pictures\", \"id\": 923}, {\"...</td>\n",
              "      <td>[{\"iso_3166_1\": \"US\", \"name\": \"United States o...</td>\n",
              "      <td>2012-07-16</td>\n",
              "      <td>1084939099</td>\n",
              "      <td>165.0</td>\n",
              "      <td>[{\"iso_639_1\": \"en\", \"name\": \"English\"}]</td>\n",
              "      <td>Released</td>\n",
              "      <td>The Legend Ends</td>\n",
              "      <td>The Dark Knight Rises</td>\n",
              "      <td>7.6</td>\n",
              "      <td>9106</td>\n",
              "    </tr>\n",
              "    <tr>\n",
              "      <th>4</th>\n",
              "      <td>260000000</td>\n",
              "      <td>[{\"id\": 28, \"name\": \"Action\"}, {\"id\": 12, \"nam...</td>\n",
              "      <td>http://movies.disney.com/john-carter</td>\n",
              "      <td>49529</td>\n",
              "      <td>[{\"id\": 818, \"name\": \"based on novel\"}, {\"id\":...</td>\n",
              "      <td>en</td>\n",
              "      <td>John Carter</td>\n",
              "      <td>John Carter is a war-weary, former military ca...</td>\n",
              "      <td>43.926995</td>\n",
              "      <td>[{\"name\": \"Walt Disney Pictures\", \"id\": 2}]</td>\n",
              "      <td>[{\"iso_3166_1\": \"US\", \"name\": \"United States o...</td>\n",
              "      <td>2012-03-07</td>\n",
              "      <td>284139100</td>\n",
              "      <td>132.0</td>\n",
              "      <td>[{\"iso_639_1\": \"en\", \"name\": \"English\"}]</td>\n",
              "      <td>Released</td>\n",
              "      <td>Lost in our world, found in another.</td>\n",
              "      <td>John Carter</td>\n",
              "      <td>6.1</td>\n",
              "      <td>2124</td>\n",
              "    </tr>\n",
              "    <tr>\n",
              "      <th>...</th>\n",
              "      <td>...</td>\n",
              "      <td>...</td>\n",
              "      <td>...</td>\n",
              "      <td>...</td>\n",
              "      <td>...</td>\n",
              "      <td>...</td>\n",
              "      <td>...</td>\n",
              "      <td>...</td>\n",
              "      <td>...</td>\n",
              "      <td>...</td>\n",
              "      <td>...</td>\n",
              "      <td>...</td>\n",
              "      <td>...</td>\n",
              "      <td>...</td>\n",
              "      <td>...</td>\n",
              "      <td>...</td>\n",
              "      <td>...</td>\n",
              "      <td>...</td>\n",
              "      <td>...</td>\n",
              "      <td>...</td>\n",
              "    </tr>\n",
              "    <tr>\n",
              "      <th>4798</th>\n",
              "      <td>220000</td>\n",
              "      <td>[{\"id\": 28, \"name\": \"Action\"}, {\"id\": 80, \"nam...</td>\n",
              "      <td>NaN</td>\n",
              "      <td>9367</td>\n",
              "      <td>[{\"id\": 5616, \"name\": \"united states\\u2013mexi...</td>\n",
              "      <td>es</td>\n",
              "      <td>El Mariachi</td>\n",
              "      <td>El Mariachi just wants to play his guitar and ...</td>\n",
              "      <td>14.269792</td>\n",
              "      <td>[{\"name\": \"Columbia Pictures\", \"id\": 5}]</td>\n",
              "      <td>[{\"iso_3166_1\": \"MX\", \"name\": \"Mexico\"}, {\"iso...</td>\n",
              "      <td>1992-09-04</td>\n",
              "      <td>2040920</td>\n",
              "      <td>81.0</td>\n",
              "      <td>[{\"iso_639_1\": \"es\", \"name\": \"Espa\\u00f1ol\"}]</td>\n",
              "      <td>Released</td>\n",
              "      <td>He didn't come looking for trouble, but troubl...</td>\n",
              "      <td>El Mariachi</td>\n",
              "      <td>6.6</td>\n",
              "      <td>238</td>\n",
              "    </tr>\n",
              "    <tr>\n",
              "      <th>4799</th>\n",
              "      <td>9000</td>\n",
              "      <td>[{\"id\": 35, \"name\": \"Comedy\"}, {\"id\": 10749, \"...</td>\n",
              "      <td>NaN</td>\n",
              "      <td>72766</td>\n",
              "      <td>[]</td>\n",
              "      <td>en</td>\n",
              "      <td>Newlyweds</td>\n",
              "      <td>A newlywed couple's honeymoon is upended by th...</td>\n",
              "      <td>0.642552</td>\n",
              "      <td>[]</td>\n",
              "      <td>[]</td>\n",
              "      <td>2011-12-26</td>\n",
              "      <td>0</td>\n",
              "      <td>85.0</td>\n",
              "      <td>[]</td>\n",
              "      <td>Released</td>\n",
              "      <td>A newlywed couple's honeymoon is upended by th...</td>\n",
              "      <td>Newlyweds</td>\n",
              "      <td>5.9</td>\n",
              "      <td>5</td>\n",
              "    </tr>\n",
              "    <tr>\n",
              "      <th>4800</th>\n",
              "      <td>0</td>\n",
              "      <td>[{\"id\": 35, \"name\": \"Comedy\"}, {\"id\": 18, \"nam...</td>\n",
              "      <td>http://www.hallmarkchannel.com/signedsealeddel...</td>\n",
              "      <td>231617</td>\n",
              "      <td>[{\"id\": 248, \"name\": \"date\"}, {\"id\": 699, \"nam...</td>\n",
              "      <td>en</td>\n",
              "      <td>Signed, Sealed, Delivered</td>\n",
              "      <td>\"Signed, Sealed, Delivered\" introduces a dedic...</td>\n",
              "      <td>1.444476</td>\n",
              "      <td>[{\"name\": \"Front Street Pictures\", \"id\": 3958}...</td>\n",
              "      <td>[{\"iso_3166_1\": \"US\", \"name\": \"United States o...</td>\n",
              "      <td>2013-10-13</td>\n",
              "      <td>0</td>\n",
              "      <td>120.0</td>\n",
              "      <td>[{\"iso_639_1\": \"en\", \"name\": \"English\"}]</td>\n",
              "      <td>Released</td>\n",
              "      <td>NaN</td>\n",
              "      <td>Signed, Sealed, Delivered</td>\n",
              "      <td>7.0</td>\n",
              "      <td>6</td>\n",
              "    </tr>\n",
              "    <tr>\n",
              "      <th>4801</th>\n",
              "      <td>0</td>\n",
              "      <td>[]</td>\n",
              "      <td>http://shanghaicalling.com/</td>\n",
              "      <td>126186</td>\n",
              "      <td>[]</td>\n",
              "      <td>en</td>\n",
              "      <td>Shanghai Calling</td>\n",
              "      <td>When ambitious New York attorney Sam is sent t...</td>\n",
              "      <td>0.857008</td>\n",
              "      <td>[]</td>\n",
              "      <td>[{\"iso_3166_1\": \"US\", \"name\": \"United States o...</td>\n",
              "      <td>2012-05-03</td>\n",
              "      <td>0</td>\n",
              "      <td>98.0</td>\n",
              "      <td>[{\"iso_639_1\": \"en\", \"name\": \"English\"}]</td>\n",
              "      <td>Released</td>\n",
              "      <td>A New Yorker in Shanghai</td>\n",
              "      <td>Shanghai Calling</td>\n",
              "      <td>5.7</td>\n",
              "      <td>7</td>\n",
              "    </tr>\n",
              "    <tr>\n",
              "      <th>4802</th>\n",
              "      <td>0</td>\n",
              "      <td>[{\"id\": 99, \"name\": \"Documentary\"}]</td>\n",
              "      <td>NaN</td>\n",
              "      <td>25975</td>\n",
              "      <td>[{\"id\": 1523, \"name\": \"obsession\"}, {\"id\": 224...</td>\n",
              "      <td>en</td>\n",
              "      <td>My Date with Drew</td>\n",
              "      <td>Ever since the second grade when he first saw ...</td>\n",
              "      <td>1.929883</td>\n",
              "      <td>[{\"name\": \"rusty bear entertainment\", \"id\": 87...</td>\n",
              "      <td>[{\"iso_3166_1\": \"US\", \"name\": \"United States o...</td>\n",
              "      <td>2005-08-05</td>\n",
              "      <td>0</td>\n",
              "      <td>90.0</td>\n",
              "      <td>[{\"iso_639_1\": \"en\", \"name\": \"English\"}]</td>\n",
              "      <td>Released</td>\n",
              "      <td>NaN</td>\n",
              "      <td>My Date with Drew</td>\n",
              "      <td>6.3</td>\n",
              "      <td>16</td>\n",
              "    </tr>\n",
              "  </tbody>\n",
              "</table>\n",
              "<p>4803 rows × 20 columns</p>\n",
              "</div>\n",
              "      <button class=\"colab-df-convert\" onclick=\"convertToInteractive('df-5dcaf31b-0e37-4d9f-aae5-ac479e9fda95')\"\n",
              "              title=\"Convert this dataframe to an interactive table.\"\n",
              "              style=\"display:none;\">\n",
              "        \n",
              "  <svg xmlns=\"http://www.w3.org/2000/svg\" height=\"24px\"viewBox=\"0 0 24 24\"\n",
              "       width=\"24px\">\n",
              "    <path d=\"M0 0h24v24H0V0z\" fill=\"none\"/>\n",
              "    <path d=\"M18.56 5.44l.94 2.06.94-2.06 2.06-.94-2.06-.94-.94-2.06-.94 2.06-2.06.94zm-11 1L8.5 8.5l.94-2.06 2.06-.94-2.06-.94L8.5 2.5l-.94 2.06-2.06.94zm10 10l.94 2.06.94-2.06 2.06-.94-2.06-.94-.94-2.06-.94 2.06-2.06.94z\"/><path d=\"M17.41 7.96l-1.37-1.37c-.4-.4-.92-.59-1.43-.59-.52 0-1.04.2-1.43.59L10.3 9.45l-7.72 7.72c-.78.78-.78 2.05 0 2.83L4 21.41c.39.39.9.59 1.41.59.51 0 1.02-.2 1.41-.59l7.78-7.78 2.81-2.81c.8-.78.8-2.07 0-2.86zM5.41 20L4 18.59l7.72-7.72 1.47 1.35L5.41 20z\"/>\n",
              "  </svg>\n",
              "      </button>\n",
              "      \n",
              "  <style>\n",
              "    .colab-df-container {\n",
              "      display:flex;\n",
              "      flex-wrap:wrap;\n",
              "      gap: 12px;\n",
              "    }\n",
              "\n",
              "    .colab-df-convert {\n",
              "      background-color: #E8F0FE;\n",
              "      border: none;\n",
              "      border-radius: 50%;\n",
              "      cursor: pointer;\n",
              "      display: none;\n",
              "      fill: #1967D2;\n",
              "      height: 32px;\n",
              "      padding: 0 0 0 0;\n",
              "      width: 32px;\n",
              "    }\n",
              "\n",
              "    .colab-df-convert:hover {\n",
              "      background-color: #E2EBFA;\n",
              "      box-shadow: 0px 1px 2px rgba(60, 64, 67, 0.3), 0px 1px 3px 1px rgba(60, 64, 67, 0.15);\n",
              "      fill: #174EA6;\n",
              "    }\n",
              "\n",
              "    [theme=dark] .colab-df-convert {\n",
              "      background-color: #3B4455;\n",
              "      fill: #D2E3FC;\n",
              "    }\n",
              "\n",
              "    [theme=dark] .colab-df-convert:hover {\n",
              "      background-color: #434B5C;\n",
              "      box-shadow: 0px 1px 3px 1px rgba(0, 0, 0, 0.15);\n",
              "      filter: drop-shadow(0px 1px 2px rgba(0, 0, 0, 0.3));\n",
              "      fill: #FFFFFF;\n",
              "    }\n",
              "  </style>\n",
              "\n",
              "      <script>\n",
              "        const buttonEl =\n",
              "          document.querySelector('#df-5dcaf31b-0e37-4d9f-aae5-ac479e9fda95 button.colab-df-convert');\n",
              "        buttonEl.style.display =\n",
              "          google.colab.kernel.accessAllowed ? 'block' : 'none';\n",
              "\n",
              "        async function convertToInteractive(key) {\n",
              "          const element = document.querySelector('#df-5dcaf31b-0e37-4d9f-aae5-ac479e9fda95');\n",
              "          const dataTable =\n",
              "            await google.colab.kernel.invokeFunction('convertToInteractive',\n",
              "                                                     [key], {});\n",
              "          if (!dataTable) return;\n",
              "\n",
              "          const docLinkHtml = 'Like what you see? Visit the ' +\n",
              "            '<a target=\"_blank\" href=https://colab.research.google.com/notebooks/data_table.ipynb>data table notebook</a>'\n",
              "            + ' to learn more about interactive tables.';\n",
              "          element.innerHTML = '';\n",
              "          dataTable['output_type'] = 'display_data';\n",
              "          await google.colab.output.renderOutput(dataTable, element);\n",
              "          const docLink = document.createElement('div');\n",
              "          docLink.innerHTML = docLinkHtml;\n",
              "          element.appendChild(docLink);\n",
              "        }\n",
              "      </script>\n",
              "    </div>\n",
              "  </div>\n",
              "  "
            ]
          },
          "metadata": {},
          "execution_count": 3
        }
      ],
      "source": [
        "df = pd.read_csv('tmdb_5000_movies.csv')\n",
        "df"
      ]
    },
    {
      "cell_type": "markdown",
      "id": "1915f1f7",
      "metadata": {
        "id": "1915f1f7"
      },
      "source": [
        "View information about the dataset including datatypes and null values"
      ]
    },
    {
      "cell_type": "code",
      "execution_count": 3,
      "id": "c173d066",
      "metadata": {
        "colab": {
          "base_uri": "https://localhost:8080/"
        },
        "id": "c173d066",
        "outputId": "b79d3e47-1248-4a9b-d8e9-f015ca6928b8"
      },
      "outputs": [
        {
          "output_type": "stream",
          "name": "stdout",
          "text": [
            "<class 'pandas.core.frame.DataFrame'>\n",
            "RangeIndex: 4803 entries, 0 to 4802\n",
            "Data columns (total 20 columns):\n",
            " #   Column                Non-Null Count  Dtype  \n",
            "---  ------                --------------  -----  \n",
            " 0   budget                4803 non-null   int64  \n",
            " 1   genres                4803 non-null   object \n",
            " 2   homepage              1712 non-null   object \n",
            " 3   id                    4803 non-null   int64  \n",
            " 4   keywords              4803 non-null   object \n",
            " 5   original_language     4803 non-null   object \n",
            " 6   original_title        4803 non-null   object \n",
            " 7   overview              4800 non-null   object \n",
            " 8   popularity            4803 non-null   float64\n",
            " 9   production_companies  4803 non-null   object \n",
            " 10  production_countries  4803 non-null   object \n",
            " 11  release_date          4802 non-null   object \n",
            " 12  revenue               4803 non-null   int64  \n",
            " 13  runtime               4801 non-null   float64\n",
            " 14  spoken_languages      4803 non-null   object \n",
            " 15  status                4803 non-null   object \n",
            " 16  tagline               3959 non-null   object \n",
            " 17  title                 4803 non-null   object \n",
            " 18  vote_average          4803 non-null   float64\n",
            " 19  vote_count            4803 non-null   int64  \n",
            "dtypes: float64(3), int64(4), object(13)\n",
            "memory usage: 750.6+ KB\n"
          ]
        }
      ],
      "source": [
        "df.info()"
      ]
    },
    {
      "cell_type": "markdown",
      "id": "4e64a24f",
      "metadata": {
        "id": "4e64a24f"
      },
      "source": [
        "**Q.1.1.2** What columns have null values above? How would you be able to estimate the missing values?"
      ]
    },
    {
      "cell_type": "markdown",
      "id": "2660fe51",
      "metadata": {
        "id": "2660fe51"
      },
      "source": [
        "Every column with less than 4803 non null values has null value values. To calculate how many null values in each columns: 4803 - non null."
      ]
    },
    {
      "cell_type": "markdown",
      "id": "83863820",
      "metadata": {
        "id": "83863820"
      },
      "source": [
        "### Q1.2\n",
        "For this notebook, we're only interested in a few columns, specifically title, overview and genres. Set df to only contain those columns."
      ]
    },
    {
      "cell_type": "code",
      "execution_count": 4,
      "id": "4e3f0439",
      "metadata": {
        "colab": {
          "base_uri": "https://localhost:8080/"
        },
        "id": "4e3f0439",
        "outputId": "00652462-d081-4d8a-96c3-c25c34e292ac"
      },
      "outputs": [
        {
          "output_type": "stream",
          "name": "stdout",
          "text": [
            "<class 'pandas.core.frame.DataFrame'>\n",
            "RangeIndex: 4803 entries, 0 to 4802\n",
            "Data columns (total 3 columns):\n",
            " #   Column    Non-Null Count  Dtype \n",
            "---  ------    --------------  ----- \n",
            " 0   title     4803 non-null   object\n",
            " 1   overview  4800 non-null   object\n",
            " 2   genres    4803 non-null   object\n",
            "dtypes: object(3)\n",
            "memory usage: 112.7+ KB\n"
          ]
        }
      ],
      "source": [
        "df = df[['title', 'overview', 'genres']]\n",
        "df.info() # print out df info to verify"
      ]
    },
    {
      "cell_type": "markdown",
      "id": "b596e86b",
      "metadata": {
        "id": "b596e86b"
      },
      "source": [
        "### Q1.3\n",
        "We see that some movies do not have an overview. Drop them from the table and reset the index (set `drop=True`)."
      ]
    },
    {
      "cell_type": "code",
      "execution_count": 5,
      "id": "a06e4f6a",
      "metadata": {
        "colab": {
          "base_uri": "https://localhost:8080/"
        },
        "id": "a06e4f6a",
        "outputId": "f7c81415-5d0a-4016-a2ff-8b3985248543"
      },
      "outputs": [
        {
          "output_type": "stream",
          "name": "stdout",
          "text": [
            "<class 'pandas.core.frame.DataFrame'>\n",
            "RangeIndex: 4800 entries, 0 to 4799\n",
            "Data columns (total 3 columns):\n",
            " #   Column    Non-Null Count  Dtype \n",
            "---  ------    --------------  ----- \n",
            " 0   title     4800 non-null   object\n",
            " 1   overview  4800 non-null   object\n",
            " 2   genres    4800 non-null   object\n",
            "dtypes: object(3)\n",
            "memory usage: 112.6+ KB\n"
          ]
        }
      ],
      "source": [
        "df = df.dropna().reset_index(drop=True)\n",
        "#df = df.reset_index(drop=True) # reset index\n",
        "df.info()"
      ]
    },
    {
      "cell_type": "markdown",
      "id": "759df3a2",
      "metadata": {
        "id": "759df3a2"
      },
      "source": [
        "# Q2 One-hot encodings\n",
        "The following code processes the genres (which you see above are list of dictionaries) and encodes them into one-hot labels.\n",
        "\n",
        "Remember, since we cannot do maths on text strings, we must change these words to numbers. Here, we create one-hot encodings for the genres. Assume we have three genres $[G_1, G_2, G_3]$. If a movie $M_1$ is tagged with genre $G_1$, the encoding is $[1,0,0]$. If another movie $M_2$ is tagged with $G2$, the encoding becomes $[0,1,0]$. Other encodings are possible as well, but one-hot encoding quite common and useful for many other tasks. In this case, if a movie is tagged with more than one genre, we'll just take a random one and encode that into a one-hot label.\n",
        "\n",
        "### Q2.1 Processing genres\n",
        "\n",
        "Finish the following code that processes genres into one-hot encodings."
      ]
    },
    {
      "cell_type": "code",
      "execution_count": 6,
      "id": "dba05feb",
      "metadata": {
        "colab": {
          "base_uri": "https://localhost:8080/"
        },
        "id": "dba05feb",
        "outputId": "2d9c2698-43e3-47d1-d31b-a6cddcdb2e5f"
      },
      "outputs": [
        {
          "output_type": "stream",
          "name": "stderr",
          "text": [
            "100%|██████████| 4800/4800 [00:00<00:00, 27504.50it/s]"
          ]
        },
        {
          "output_type": "stream",
          "name": "stdout",
          "text": [
            "                                         title  \\\n",
            "0                                       Avatar   \n",
            "1     Pirates of the Caribbean: At World's End   \n",
            "2                                      Spectre   \n",
            "3                        The Dark Knight Rises   \n",
            "4                                  John Carter   \n",
            "...                                        ...   \n",
            "4795                               El Mariachi   \n",
            "4796                                 Newlyweds   \n",
            "4797                 Signed, Sealed, Delivered   \n",
            "4798                          Shanghai Calling   \n",
            "4799                         My Date with Drew   \n",
            "\n",
            "                                               overview  \\\n",
            "0     In the 22nd century, a paraplegic Marine is di...   \n",
            "1     Captain Barbossa, long believed to be dead, ha...   \n",
            "2     A cryptic message from Bond’s past sends him o...   \n",
            "3     Following the death of District Attorney Harve...   \n",
            "4     John Carter is a war-weary, former military ca...   \n",
            "...                                                 ...   \n",
            "4795  El Mariachi just wants to play his guitar and ...   \n",
            "4796  A newlywed couple's honeymoon is upended by th...   \n",
            "4797  \"Signed, Sealed, Delivered\" introduces a dedic...   \n",
            "4798  When ambitious New York attorney Sam is sent t...   \n",
            "4799  Ever since the second grade when he first saw ...   \n",
            "\n",
            "                                                 genres  proc_genres  \\\n",
            "0     [{\"id\": 28, \"name\": \"Action\"}, {\"id\": 12, \"nam...       Action   \n",
            "1     [{\"id\": 12, \"name\": \"Adventure\"}, {\"id\": 14, \"...      Fantasy   \n",
            "2     [{\"id\": 28, \"name\": \"Action\"}, {\"id\": 12, \"nam...       Action   \n",
            "3     [{\"id\": 28, \"name\": \"Action\"}, {\"id\": 80, \"nam...     Thriller   \n",
            "4     [{\"id\": 28, \"name\": \"Action\"}, {\"id\": 12, \"nam...    Adventure   \n",
            "...                                                 ...          ...   \n",
            "4795  [{\"id\": 28, \"name\": \"Action\"}, {\"id\": 80, \"nam...        Crime   \n",
            "4796  [{\"id\": 35, \"name\": \"Comedy\"}, {\"id\": 10749, \"...       Comedy   \n",
            "4797  [{\"id\": 35, \"name\": \"Comedy\"}, {\"id\": 18, \"nam...     TV Movie   \n",
            "4798                                                 []      Unknown   \n",
            "4799                [{\"id\": 99, \"name\": \"Documentary\"}]  Documentary   \n",
            "\n",
            "                                         one_hot_genres  \n",
            "0     [1.0, 0.0, 0.0, 0.0, 0.0, 0.0, 0.0, 0.0, 0.0, ...  \n",
            "1     [0.0, 0.0, 0.0, 0.0, 0.0, 0.0, 0.0, 0.0, 1.0, ...  \n",
            "2     [1.0, 0.0, 0.0, 0.0, 0.0, 0.0, 0.0, 0.0, 0.0, ...  \n",
            "3     [0.0, 0.0, 0.0, 0.0, 0.0, 0.0, 0.0, 0.0, 0.0, ...  \n",
            "4     [0.0, 1.0, 0.0, 0.0, 0.0, 0.0, 0.0, 0.0, 0.0, ...  \n",
            "...                                                 ...  \n",
            "4795  [0.0, 0.0, 0.0, 0.0, 1.0, 0.0, 0.0, 0.0, 0.0, ...  \n",
            "4796  [0.0, 0.0, 0.0, 1.0, 0.0, 0.0, 0.0, 0.0, 0.0, ...  \n",
            "4797  [0.0, 0.0, 0.0, 0.0, 0.0, 0.0, 0.0, 0.0, 0.0, ...  \n",
            "4798  [0.0, 0.0, 0.0, 0.0, 0.0, 0.0, 0.0, 0.0, 0.0, ...  \n",
            "4799  [0.0, 0.0, 0.0, 0.0, 0.0, 1.0, 0.0, 0.0, 0.0, ...  \n",
            "\n",
            "[4800 rows x 5 columns]\n"
          ]
        },
        {
          "output_type": "stream",
          "name": "stderr",
          "text": [
            "\n"
          ]
        }
      ],
      "source": [
        "np.random.seed(0)\n",
        "\n",
        "def process_genre_string(gs):\n",
        "    \"\"\" Processes genres into a single item from a list\"\"\"\n",
        "    gs = eval(gs)\n",
        "    gs = [x['name'] for x in gs]\n",
        "    genre = \"Unknown\"\n",
        "    if gs:\n",
        "        genre = np.random.choice(gs) # choose random entry\n",
        "    return genre\n",
        "\n",
        "# TODO: Fill in\n",
        "def encode_labels(label, unique_labels):\n",
        "    \"\"\" Encodes text labels into a one-hot encoded list\n",
        "        with possibly more than one one-hot per list.\n",
        "        :param label: the label you want to one-hot encode\n",
        "        :unique_labels: the vocabulary\n",
        "    \"\"\"\n",
        "    out = np.zeros(len(unique_labels))\n",
        "    out[unique_labels.index(label)] = 1\n",
        "    return out\n",
        "\n",
        "# save genres\n",
        "processed_genres = []\n",
        "for index, row in df.iterrows():\n",
        "    processed_genres.append(process_genre_string(row['genres']))\n",
        "\n",
        "\n",
        "#encode_labels(process_genre_string(df['genres'].tolist), df['genres'].tolist)\n",
        "# sort and remove duplicates to get vocabulary\n",
        "unique_genres = sorted(list(set(processed_genres)))\n",
        "\n",
        "# add to dataframe as new column\n",
        "df[\"proc_genres\"] = processed_genres\n",
        "\n",
        "# one-hot encode genres\n",
        "enocded_labels = []\n",
        "for index, row in tqdm(df.iterrows(), total=len(df)):\n",
        "    enocded_labels.append(encode_labels(row['proc_genres'], unique_genres))\n",
        "\n",
        "df[\"one_hot_genres\"] = enocded_labels\n",
        "print(df)"
      ]
    },
    {
      "cell_type": "markdown",
      "id": "d17501a9",
      "metadata": {
        "id": "d17501a9"
      },
      "source": [
        "Verify that one-hot encodings are indeed as expected"
      ]
    },
    {
      "cell_type": "code",
      "execution_count": 7,
      "id": "3b64854b",
      "metadata": {
        "colab": {
          "base_uri": "https://localhost:8080/"
        },
        "id": "3b64854b",
        "outputId": "f5ff138d-48ff-415a-bae1-361a2d44c0ee"
      },
      "outputs": [
        {
          "output_type": "execute_result",
          "data": {
            "text/plain": [
              "array([1., 0., 0., 0., 0., 0., 0., 0., 0., 0., 0., 0., 0., 0., 0., 0., 0.,\n",
              "       0., 0., 0., 0.])"
            ]
          },
          "metadata": {},
          "execution_count": 7
        }
      ],
      "source": [
        "df[\"one_hot_genres\"][0]"
      ]
    },
    {
      "cell_type": "markdown",
      "id": "b0a83ece",
      "metadata": {
        "id": "b0a83ece"
      },
      "source": [
        "### Q2.2 Processing Overviews\n",
        "Next, we process the overviews. First, we remove all punctuation for the sake of simplicity and change each overview to use only lowercase. Then we need to see how long the overviews are in terms of numbers of words. We can do this with a histogram.\n",
        "\n",
        "**Q2.2.1** Finish the following code"
      ]
    },
    {
      "cell_type": "code",
      "execution_count": 8,
      "id": "bfd51c53",
      "metadata": {
        "colab": {
          "base_uri": "https://localhost:8080/",
          "height": 430
        },
        "id": "bfd51c53",
        "outputId": "b35a9247-3b66-4841-8ac2-18a634d4a13c"
      },
      "outputs": [
        {
          "output_type": "display_data",
          "data": {
            "text/plain": [
              "<Figure size 640x480 with 1 Axes>"
            ],
            "image/png": "[encoded data removed]"
          },
          "metadata": {}
        }
      ],
      "source": [
        "import re\n",
        "def remove_punctuation(text):\n",
        "    \"\"\" Only retains letters, numbers, underscores and whitespace \"\"\"\n",
        "    pattern = r'[^\\w\\s]'\n",
        "    return re.sub(pattern, '', text)\n",
        "\n",
        "processed_overviews = []\n",
        "\n",
        "# loop over df, remove punctuation, make words lowercase and add it to a new column\n",
        "\n",
        "for index, row in df.iterrows():\n",
        "    processed_overviews.append(remove_punctuation(row['overview']))\n",
        "\n",
        "df[\"proc_overview\"] = processed_overviews\n",
        "\n",
        "# get the word lengths of each overview and store it in a list \n",
        "overview_lens = []\n",
        "for index, row in df.iterrows():\n",
        "    overview_lens.append(len(row['proc_overview']))\n",
        "\n",
        "# for the sake of simplicity, add these values as a column to the df\n",
        "df[\"overview_len\"] = overview_lens\n",
        "plt.hist(overview_lens)\n",
        "plt.show()"
      ]
    },
    {
      "cell_type": "markdown",
      "id": "58138594",
      "metadata": {
        "id": "58138594"
      },
      "source": [
        "**Q2.2.2** What is the shortest overview? What is the longest? In the next step, we need to decide on a standard length of all overviews -- this means dropping overviews less than some value, and truncating longer ones. What length would you choose to minimize the number of movies dropped and maximize the information (words) stored in the overviews?"
      ]
    },
    {
      "cell_type": "markdown",
      "id": "3b87f1af",
      "metadata": {
        "id": "3b87f1af"
      },
      "source": [
        "Shortest is 0. Longest is close to 1000.\n",
        "I would say 100. We drop only 200 observationst that are below it, while keeping the rest."
      ]
    },
    {
      "cell_type": "markdown",
      "id": "54e6cb90",
      "metadata": {
        "id": "54e6cb90"
      },
      "source": [
        "### Q2.2.3\n",
        "Let's choose overviews of length 15 words. What this means is we need to discard movies that have overviews less than 15 (there are other ways of dealing with it, but this should be fine for now) and truncate the higher ones to the first 15 words."
      ]
    },
    {
      "cell_type": "code",
      "execution_count": 9,
      "id": "70854211",
      "metadata": {
        "colab": {
          "base_uri": "https://localhost:8080/",
          "height": 1000
        },
        "id": "70854211",
        "outputId": "7fc97ffb-e784-4c5f-bfe6-d0e3f6be6ceb"
      },
      "outputs": [
        {
          "output_type": "stream",
          "name": "stderr",
          "text": [
            "<ipython-input-9-7fe0abb90f61>:7: SettingWithCopyWarning: \n",
            "A value is trying to be set on a copy of a slice from a DataFrame.\n",
            "Try using .loc[row_indexer,col_indexer] = value instead\n",
            "\n",
            "See the caveats in the documentation: https://pandas.pydata.org/pandas-docs/stable/user_guide/indexing.html#returning-a-view-versus-a-copy\n",
            "  df['proc_overview'] = df['proc_overview'].str.split().apply(lambda x: x[:token_len])\n"
          ]
        },
        {
          "output_type": "execute_result",
          "data": {
            "text/plain": [
              "                                         title  \\\n",
              "0                                       Avatar   \n",
              "1     Pirates of the Caribbean: At World's End   \n",
              "2                                      Spectre   \n",
              "3                        The Dark Knight Rises   \n",
              "4                                  John Carter   \n",
              "...                                        ...   \n",
              "4795                               El Mariachi   \n",
              "4796                                 Newlyweds   \n",
              "4797                 Signed, Sealed, Delivered   \n",
              "4798                          Shanghai Calling   \n",
              "4799                         My Date with Drew   \n",
              "\n",
              "                                               overview  \\\n",
              "0     In the 22nd century, a paraplegic Marine is di...   \n",
              "1     Captain Barbossa, long believed to be dead, ha...   \n",
              "2     A cryptic message from Bond’s past sends him o...   \n",
              "3     Following the death of District Attorney Harve...   \n",
              "4     John Carter is a war-weary, former military ca...   \n",
              "...                                                 ...   \n",
              "4795  El Mariachi just wants to play his guitar and ...   \n",
              "4796  A newlywed couple's honeymoon is upended by th...   \n",
              "4797  \"Signed, Sealed, Delivered\" introduces a dedic...   \n",
              "4798  When ambitious New York attorney Sam is sent t...   \n",
              "4799  Ever since the second grade when he first saw ...   \n",
              "\n",
              "                                                 genres  proc_genres  \\\n",
              "0     [{\"id\": 28, \"name\": \"Action\"}, {\"id\": 12, \"nam...       Action   \n",
              "1     [{\"id\": 12, \"name\": \"Adventure\"}, {\"id\": 14, \"...      Fantasy   \n",
              "2     [{\"id\": 28, \"name\": \"Action\"}, {\"id\": 12, \"nam...       Action   \n",
              "3     [{\"id\": 28, \"name\": \"Action\"}, {\"id\": 80, \"nam...     Thriller   \n",
              "4     [{\"id\": 28, \"name\": \"Action\"}, {\"id\": 12, \"nam...    Adventure   \n",
              "...                                                 ...          ...   \n",
              "4795  [{\"id\": 28, \"name\": \"Action\"}, {\"id\": 80, \"nam...        Crime   \n",
              "4796  [{\"id\": 35, \"name\": \"Comedy\"}, {\"id\": 10749, \"...       Comedy   \n",
              "4797  [{\"id\": 35, \"name\": \"Comedy\"}, {\"id\": 18, \"nam...     TV Movie   \n",
              "4798                                                 []      Unknown   \n",
              "4799                [{\"id\": 99, \"name\": \"Documentary\"}]  Documentary   \n",
              "\n",
              "                                         one_hot_genres  \\\n",
              "0     [1.0, 0.0, 0.0, 0.0, 0.0, 0.0, 0.0, 0.0, 0.0, ...   \n",
              "1     [0.0, 0.0, 0.0, 0.0, 0.0, 0.0, 0.0, 0.0, 1.0, ...   \n",
              "2     [1.0, 0.0, 0.0, 0.0, 0.0, 0.0, 0.0, 0.0, 0.0, ...   \n",
              "3     [0.0, 0.0, 0.0, 0.0, 0.0, 0.0, 0.0, 0.0, 0.0, ...   \n",
              "4     [0.0, 1.0, 0.0, 0.0, 0.0, 0.0, 0.0, 0.0, 0.0, ...   \n",
              "...                                                 ...   \n",
              "4795  [0.0, 0.0, 0.0, 0.0, 1.0, 0.0, 0.0, 0.0, 0.0, ...   \n",
              "4796  [0.0, 0.0, 0.0, 1.0, 0.0, 0.0, 0.0, 0.0, 0.0, ...   \n",
              "4797  [0.0, 0.0, 0.0, 0.0, 0.0, 0.0, 0.0, 0.0, 0.0, ...   \n",
              "4798  [0.0, 0.0, 0.0, 0.0, 0.0, 0.0, 0.0, 0.0, 0.0, ...   \n",
              "4799  [0.0, 0.0, 0.0, 0.0, 0.0, 1.0, 0.0, 0.0, 0.0, ...   \n",
              "\n",
              "                                          proc_overview  overview_len  \n",
              "0     [In, the, 22nd, century, a, paraplegic, Marine...           172  \n",
              "1     [Captain, Barbossa, long, believed, to, be, de...           172  \n",
              "2     [A, cryptic, message, from, Bonds, past, sends...           236  \n",
              "3     [Following, the, death, of, District, Attorney...           419  \n",
              "4     [John, Carter, is, a, warweary, former, milita...           333  \n",
              "...                                                 ...           ...  \n",
              "4795  [El, Mariachi, just, wants, to, play, his, gui...           329  \n",
              "4796  [A, newlywed, couples, honeymoon, is, upended,...            83  \n",
              "4797  [Signed, Sealed, Delivered, introduces, a, ded...           461  \n",
              "4798  [When, ambitious, New, York, attorney, Sam, is...           398  \n",
              "4799  [Ever, since, the, second, grade, when, he, fi...           348  \n",
              "\n",
              "[4799 rows x 7 columns]"
            ],
            "text/html": [
              "\n",
              "  <div id=\"df-5750b643-8da4-43e4-8e01-3a8960d521e7\">\n",
              "    <div class=\"colab-df-container\">\n",
              "      <div>\n",
              "<style scoped>\n",
              "    .dataframe tbody tr th:only-of-type {\n",
              "        vertical-align: middle;\n",
              "    }\n",
              "\n",
              "    .dataframe tbody tr th {\n",
              "        vertical-align: top;\n",
              "    }\n",
              "\n",
              "    .dataframe thead th {\n",
              "        text-align: right;\n",
              "    }\n",
              "</style>\n",
              "<table border=\"1\" class=\"dataframe\">\n",
              "  <thead>\n",
              "    <tr style=\"text-align: right;\">\n",
              "      <th></th>\n",
              "      <th>title</th>\n",
              "      <th>overview</th>\n",
              "      <th>genres</th>\n",
              "      <th>proc_genres</th>\n",
              "      <th>one_hot_genres</th>\n",
              "      <th>proc_overview</th>\n",
              "      <th>overview_len</th>\n",
              "    </tr>\n",
              "  </thead>\n",
              "  <tbody>\n",
              "    <tr>\n",
              "      <th>0</th>\n",
              "      <td>Avatar</td>\n",
              "      <td>In the 22nd century, a paraplegic Marine is di...</td>\n",
              "      <td>[{\"id\": 28, \"name\": \"Action\"}, {\"id\": 12, \"nam...</td>\n",
              "      <td>Action</td>\n",
              "      <td>[1.0, 0.0, 0.0, 0.0, 0.0, 0.0, 0.0, 0.0, 0.0, ...</td>\n",
              "      <td>[In, the, 22nd, century, a, paraplegic, Marine...</td>\n",
              "      <td>172</td>\n",
              "    </tr>\n",
              "    <tr>\n",
              "      <th>1</th>\n",
              "      <td>Pirates of the Caribbean: At World's End</td>\n",
              "      <td>Captain Barbossa, long believed to be dead, ha...</td>\n",
              "      <td>[{\"id\": 12, \"name\": \"Adventure\"}, {\"id\": 14, \"...</td>\n",
              "      <td>Fantasy</td>\n",
              "      <td>[0.0, 0.0, 0.0, 0.0, 0.0, 0.0, 0.0, 0.0, 1.0, ...</td>\n",
              "      <td>[Captain, Barbossa, long, believed, to, be, de...</td>\n",
              "      <td>172</td>\n",
              "    </tr>\n",
              "    <tr>\n",
              "      <th>2</th>\n",
              "      <td>Spectre</td>\n",
              "      <td>A cryptic message from Bond’s past sends him o...</td>\n",
              "      <td>[{\"id\": 28, \"name\": \"Action\"}, {\"id\": 12, \"nam...</td>\n",
              "      <td>Action</td>\n",
              "      <td>[1.0, 0.0, 0.0, 0.0, 0.0, 0.0, 0.0, 0.0, 0.0, ...</td>\n",
              "      <td>[A, cryptic, message, from, Bonds, past, sends...</td>\n",
              "      <td>236</td>\n",
              "    </tr>\n",
              "    <tr>\n",
              "      <th>3</th>\n",
              "      <td>The Dark Knight Rises</td>\n",
              "      <td>Following the death of District Attorney Harve...</td>\n",
              "      <td>[{\"id\": 28, \"name\": \"Action\"}, {\"id\": 80, \"nam...</td>\n",
              "      <td>Thriller</td>\n",
              "      <td>[0.0, 0.0, 0.0, 0.0, 0.0, 0.0, 0.0, 0.0, 0.0, ...</td>\n",
              "      <td>[Following, the, death, of, District, Attorney...</td>\n",
              "      <td>419</td>\n",
              "    </tr>\n",
              "    <tr>\n",
              "      <th>4</th>\n",
              "      <td>John Carter</td>\n",
              "      <td>John Carter is a war-weary, former military ca...</td>\n",
              "      <td>[{\"id\": 28, \"name\": \"Action\"}, {\"id\": 12, \"nam...</td>\n",
              "      <td>Adventure</td>\n",
              "      <td>[0.0, 1.0, 0.0, 0.0, 0.0, 0.0, 0.0, 0.0, 0.0, ...</td>\n",
              "      <td>[John, Carter, is, a, warweary, former, milita...</td>\n",
              "      <td>333</td>\n",
              "    </tr>\n",
              "    <tr>\n",
              "      <th>...</th>\n",
              "      <td>...</td>\n",
              "      <td>...</td>\n",
              "      <td>...</td>\n",
              "      <td>...</td>\n",
              "      <td>...</td>\n",
              "      <td>...</td>\n",
              "      <td>...</td>\n",
              "    </tr>\n",
              "    <tr>\n",
              "      <th>4795</th>\n",
              "      <td>El Mariachi</td>\n",
              "      <td>El Mariachi just wants to play his guitar and ...</td>\n",
              "      <td>[{\"id\": 28, \"name\": \"Action\"}, {\"id\": 80, \"nam...</td>\n",
              "      <td>Crime</td>\n",
              "      <td>[0.0, 0.0, 0.0, 0.0, 1.0, 0.0, 0.0, 0.0, 0.0, ...</td>\n",
              "      <td>[El, Mariachi, just, wants, to, play, his, gui...</td>\n",
              "      <td>329</td>\n",
              "    </tr>\n",
              "    <tr>\n",
              "      <th>4796</th>\n",
              "      <td>Newlyweds</td>\n",
              "      <td>A newlywed couple's honeymoon is upended by th...</td>\n",
              "      <td>[{\"id\": 35, \"name\": \"Comedy\"}, {\"id\": 10749, \"...</td>\n",
              "      <td>Comedy</td>\n",
              "      <td>[0.0, 0.0, 0.0, 1.0, 0.0, 0.0, 0.0, 0.0, 0.0, ...</td>\n",
              "      <td>[A, newlywed, couples, honeymoon, is, upended,...</td>\n",
              "      <td>83</td>\n",
              "    </tr>\n",
              "    <tr>\n",
              "      <th>4797</th>\n",
              "      <td>Signed, Sealed, Delivered</td>\n",
              "      <td>\"Signed, Sealed, Delivered\" introduces a dedic...</td>\n",
              "      <td>[{\"id\": 35, \"name\": \"Comedy\"}, {\"id\": 18, \"nam...</td>\n",
              "      <td>TV Movie</td>\n",
              "      <td>[0.0, 0.0, 0.0, 0.0, 0.0, 0.0, 0.0, 0.0, 0.0, ...</td>\n",
              "      <td>[Signed, Sealed, Delivered, introduces, a, ded...</td>\n",
              "      <td>461</td>\n",
              "    </tr>\n",
              "    <tr>\n",
              "      <th>4798</th>\n",
              "      <td>Shanghai Calling</td>\n",
              "      <td>When ambitious New York attorney Sam is sent t...</td>\n",
              "      <td>[]</td>\n",
              "      <td>Unknown</td>\n",
              "      <td>[0.0, 0.0, 0.0, 0.0, 0.0, 0.0, 0.0, 0.0, 0.0, ...</td>\n",
              "      <td>[When, ambitious, New, York, attorney, Sam, is...</td>\n",
              "      <td>398</td>\n",
              "    </tr>\n",
              "    <tr>\n",
              "      <th>4799</th>\n",
              "      <td>My Date with Drew</td>\n",
              "      <td>Ever since the second grade when he first saw ...</td>\n",
              "      <td>[{\"id\": 99, \"name\": \"Documentary\"}]</td>\n",
              "      <td>Documentary</td>\n",
              "      <td>[0.0, 0.0, 0.0, 0.0, 0.0, 1.0, 0.0, 0.0, 0.0, ...</td>\n",
              "      <td>[Ever, since, the, second, grade, when, he, fi...</td>\n",
              "      <td>348</td>\n",
              "    </tr>\n",
              "  </tbody>\n",
              "</table>\n",
              "<p>4799 rows × 7 columns</p>\n",
              "</div>\n",
              "      <button class=\"colab-df-convert\" onclick=\"convertToInteractive('df-5750b643-8da4-43e4-8e01-3a8960d521e7')\"\n",
              "              title=\"Convert this dataframe to an interactive table.\"\n",
              "              style=\"display:none;\">\n",
              "        \n",
              "  <svg xmlns=\"http://www.w3.org/2000/svg\" height=\"24px\"viewBox=\"0 0 24 24\"\n",
              "       width=\"24px\">\n",
              "    <path d=\"M0 0h24v24H0V0z\" fill=\"none\"/>\n",
              "    <path d=\"M18.56 5.44l.94 2.06.94-2.06 2.06-.94-2.06-.94-.94-2.06-.94 2.06-2.06.94zm-11 1L8.5 8.5l.94-2.06 2.06-.94-2.06-.94L8.5 2.5l-.94 2.06-2.06.94zm10 10l.94 2.06.94-2.06 2.06-.94-2.06-.94-.94-2.06-.94 2.06-2.06.94z\"/><path d=\"M17.41 7.96l-1.37-1.37c-.4-.4-.92-.59-1.43-.59-.52 0-1.04.2-1.43.59L10.3 9.45l-7.72 7.72c-.78.78-.78 2.05 0 2.83L4 21.41c.39.39.9.59 1.41.59.51 0 1.02-.2 1.41-.59l7.78-7.78 2.81-2.81c.8-.78.8-2.07 0-2.86zM5.41 20L4 18.59l7.72-7.72 1.47 1.35L5.41 20z\"/>\n",
              "  </svg>\n",
              "      </button>\n",
              "      \n",
              "  <style>\n",
              "    .colab-df-container {\n",
              "      display:flex;\n",
              "      flex-wrap:wrap;\n",
              "      gap: 12px;\n",
              "    }\n",
              "\n",
              "    .colab-df-convert {\n",
              "      background-color: #E8F0FE;\n",
              "      border: none;\n",
              "      border-radius: 50%;\n",
              "      cursor: pointer;\n",
              "      display: none;\n",
              "      fill: #1967D2;\n",
              "      height: 32px;\n",
              "      padding: 0 0 0 0;\n",
              "      width: 32px;\n",
              "    }\n",
              "\n",
              "    .colab-df-convert:hover {\n",
              "      background-color: #E2EBFA;\n",
              "      box-shadow: 0px 1px 2px rgba(60, 64, 67, 0.3), 0px 1px 3px 1px rgba(60, 64, 67, 0.15);\n",
              "      fill: #174EA6;\n",
              "    }\n",
              "\n",
              "    [theme=dark] .colab-df-convert {\n",
              "      background-color: #3B4455;\n",
              "      fill: #D2E3FC;\n",
              "    }\n",
              "\n",
              "    [theme=dark] .colab-df-convert:hover {\n",
              "      background-color: #434B5C;\n",
              "      box-shadow: 0px 1px 3px 1px rgba(0, 0, 0, 0.15);\n",
              "      filter: drop-shadow(0px 1px 2px rgba(0, 0, 0, 0.3));\n",
              "      fill: #FFFFFF;\n",
              "    }\n",
              "  </style>\n",
              "\n",
              "      <script>\n",
              "        const buttonEl =\n",
              "          document.querySelector('#df-5750b643-8da4-43e4-8e01-3a8960d521e7 button.colab-df-convert');\n",
              "        buttonEl.style.display =\n",
              "          google.colab.kernel.accessAllowed ? 'block' : 'none';\n",
              "\n",
              "        async function convertToInteractive(key) {\n",
              "          const element = document.querySelector('#df-5750b643-8da4-43e4-8e01-3a8960d521e7');\n",
              "          const dataTable =\n",
              "            await google.colab.kernel.invokeFunction('convertToInteractive',\n",
              "                                                     [key], {});\n",
              "          if (!dataTable) return;\n",
              "\n",
              "          const docLinkHtml = 'Like what you see? Visit the ' +\n",
              "            '<a target=\"_blank\" href=https://colab.research.google.com/notebooks/data_table.ipynb>data table notebook</a>'\n",
              "            + ' to learn more about interactive tables.';\n",
              "          element.innerHTML = '';\n",
              "          dataTable['output_type'] = 'display_data';\n",
              "          await google.colab.output.renderOutput(dataTable, element);\n",
              "          const docLink = document.createElement('div');\n",
              "          docLink.innerHTML = docLinkHtml;\n",
              "          element.appendChild(docLink);\n",
              "        }\n",
              "      </script>\n",
              "    </div>\n",
              "  </div>\n",
              "  "
            ]
          },
          "metadata": {},
          "execution_count": 9
        }
      ],
      "source": [
        "token_len = 15 # number of words\n",
        "# only select rows where overview len is more than or equal to token_len\n",
        "df = df = df[df['overview_len'] >= token_len]\n",
        "\n",
        "# split each proc_overview into a list of words, select the first token_len words, \n",
        "# and add the list of words back into df[\"proc_overview\"]\n",
        "df['proc_overview'] = df['proc_overview'].str.split().apply(lambda x: x[:token_len])\n",
        "\n",
        "# print to verify\n",
        "df\n"
      ]
    },
    {
      "cell_type": "code",
      "source": [
        "df[\"proc_overview\"][0]"
      ],
      "metadata": {
        "colab": {
          "base_uri": "https://localhost:8080/"
        },
        "id": "V2vsAg22N9lt",
        "outputId": "3b28abc0-acf1-4687-d834-1e635f38e2fd"
      },
      "id": "V2vsAg22N9lt",
      "execution_count": 10,
      "outputs": [
        {
          "output_type": "execute_result",
          "data": {
            "text/plain": [
              "['In',\n",
              " 'the',\n",
              " '22nd',\n",
              " 'century',\n",
              " 'a',\n",
              " 'paraplegic',\n",
              " 'Marine',\n",
              " 'is',\n",
              " 'dispatched',\n",
              " 'to',\n",
              " 'the',\n",
              " 'moon',\n",
              " 'Pandora',\n",
              " 'on',\n",
              " 'a']"
            ]
          },
          "metadata": {},
          "execution_count": 10
        }
      ]
    },
    {
      "cell_type": "markdown",
      "id": "26e092dd",
      "metadata": {
        "id": "26e092dd"
      },
      "source": [
        "### Q2.2.3 Finding the vocabulary length\n",
        "\n",
        "In order to one-hot encode words, we need to find how many words there are in total, just like in the case of genres. Get all the words, remove duplicates, and sort. Find and print the length of your vocabulary."
      ]
    },
    {
      "cell_type": "code",
      "execution_count": 11,
      "id": "a71a750b",
      "metadata": {
        "colab": {
          "base_uri": "https://localhost:8080/"
        },
        "id": "a71a750b",
        "outputId": "b42183ee-6912-42d9-def6-e0df1a05244c"
      },
      "outputs": [
        {
          "output_type": "stream",
          "name": "stdout",
          "text": [
            "13917\n"
          ]
        }
      ],
      "source": [
        "# hint: store all words for all movies in a set, change it to a list and sort\n",
        "\n",
        "wordlist = []\n",
        "\n",
        "for row in df['proc_overview']:\n",
        "    words = row\n",
        "    wordlist.extend(words)\n",
        "\n",
        "unique_words = sorted(list(set(wordlist)))\n",
        "\n",
        "vocab_len = len(unique_words)\n",
        "print(vocab_len)"
      ]
    },
    {
      "cell_type": "markdown",
      "id": "f276b825",
      "metadata": {
        "id": "f276b825"
      },
      "source": [
        "### Q2.2.4 Encoding the labels\n",
        "\n",
        "In the case of genres, we one-hot encoded the outputs by taking a single random genre. However, an alternative method is to add up the one-hot encodings to form some kind of histogram. For example, if we have an overview \"a brown dog\", and our vocab is \\[a brown, big, cabbage, dog, goat, cow, turkey\\], the one-hot vector would be \\[1,1,0,0,1,0,0,0\\]. If our overview is \"a big brown dog\", the one-hot vector would be \\[1,1,1,0,1,0,0,0\\]. If our overview is \"a big big brown dog\", the one-hot vector would be \\[1,1,2,0,1,0,0,0\\]. You can use the `encode_labels` function that you defined earlier."
      ]
    },
    {
      "cell_type": "code",
      "execution_count": 12,
      "id": "d212192f",
      "metadata": {
        "colab": {
          "base_uri": "https://localhost:8080/"
        },
        "id": "d212192f",
        "outputId": "7d20f738-0b7c-41a9-f335-ee18ed501ea3"
      },
      "outputs": [
        {
          "output_type": "stream",
          "name": "stderr",
          "text": [
            "100%|██████████| 4799/4799 [00:19<00:00, 248.77it/s]\n"
          ]
        },
        {
          "output_type": "execute_result",
          "data": {
            "text/plain": [
              "0       [0.0, 0.0, 0.0, 0.0, 0.0, 0.0, 0.0, 0.0, 0.0, ...\n",
              "1       [0.0, 0.0, 0.0, 0.0, 0.0, 0.0, 0.0, 0.0, 0.0, ...\n",
              "2       [0.0, 0.0, 0.0, 0.0, 0.0, 0.0, 0.0, 0.0, 0.0, ...\n",
              "3       [0.0, 0.0, 0.0, 0.0, 0.0, 0.0, 0.0, 0.0, 0.0, ...\n",
              "4       [0.0, 0.0, 0.0, 0.0, 0.0, 0.0, 0.0, 0.0, 0.0, ...\n",
              "                              ...                        \n",
              "4795    [0.0, 0.0, 0.0, 0.0, 0.0, 0.0, 0.0, 0.0, 0.0, ...\n",
              "4796    [0.0, 0.0, 0.0, 0.0, 0.0, 0.0, 0.0, 0.0, 0.0, ...\n",
              "4797    [0.0, 0.0, 0.0, 0.0, 0.0, 0.0, 0.0, 0.0, 0.0, ...\n",
              "4798    [0.0, 0.0, 0.0, 0.0, 0.0, 0.0, 0.0, 0.0, 0.0, ...\n",
              "4799    [0.0, 0.0, 0.0, 0.0, 0.0, 0.0, 0.0, 0.0, 0.0, ...\n",
              "Name: one_hot_overview, Length: 4799, dtype: object"
            ]
          },
          "metadata": {},
          "execution_count": 12
        }
      ],
      "source": [
        "# this code is just a hint, if you want you can do it as you please\n",
        "# as long as the output remains the same\n",
        "encoded_labels = []\n",
        "#for index, row in tqdm(df.iterrows(), total=len(df)):\n",
        " #   sentence_encode = [] # set of encodings for this overview\n",
        "  #  for word in row[\"proc_overview\"]:\n",
        "   #     sentence_encode.append(encode_labels(word, unique_words)) # get encoding for this word\n",
        "    #sentence_encode = np.sum(sentence_encode, axis=1) # sum over axis=1\n",
        "    #encoded_labels.append(sentence_encode)\n",
        "\n",
        "for index, row in tqdm(df.iterrows(), total=len(df)):\n",
        "    sentence_encode = np.zeros(len(unique_words))  # Initialize the encoding for this overview\n",
        "\n",
        "    for word in row[\"proc_overview\"]:\n",
        "        word_encode = encode_labels(word, unique_words)  # Get the encoding for this word\n",
        "        sentence_encode += word_encode  # Add the encoding to the sentence encoding\n",
        "\n",
        "    encoded_labels.append(sentence_encode)\n",
        "\n",
        "df[\"one_hot_overview\"] = encoded_labels\n",
        "df['one_hot_overview'] # print to verify"
      ]
    },
    {
      "cell_type": "markdown",
      "id": "7c62e127",
      "metadata": {
        "id": "7c62e127"
      },
      "source": [
        "**Q2.2.5** Each vector is a vector of floating point (64-bit) numbers. Assuming each float takes up exactly 16-bytes, how many bytes does this take to store (theoretically)?"
      ]
    },
    {
      "cell_type": "markdown",
      "id": "193b8235",
      "metadata": {
        "id": "193b8235"
      },
      "source": [
        "64 * 16 * 4799 = 4,893,696"
      ]
    },
    {
      "cell_type": "code",
      "source": [
        "print(len(df[\"one_hot_overview\"][0]))"
      ],
      "metadata": {
        "colab": {
          "base_uri": "https://localhost:8080/"
        },
        "id": "i3JjPJH1Y4cU",
        "outputId": "316df24b-e580-46eb-e69e-a4fca7223657"
      },
      "id": "i3JjPJH1Y4cU",
      "execution_count": 13,
      "outputs": [
        {
          "output_type": "stream",
          "name": "stdout",
          "text": [
            "13917\n"
          ]
        }
      ]
    },
    {
      "cell_type": "markdown",
      "id": "1f3b3700",
      "metadata": {
        "id": "1f3b3700"
      },
      "source": [
        "# Q3 Principal Component Analysis\n",
        "\n",
        "**Q3.1** Using the overview encoded into one-hot encodings, perform PCA and plot this into a 2-D image as a scatter plot."
      ]
    },
    {
      "cell_type": "code",
      "execution_count": 14,
      "id": "832f2be7",
      "metadata": {
        "colab": {
          "base_uri": "https://localhost:8080/",
          "height": 636
        },
        "id": "832f2be7",
        "outputId": "6f10ebe4-d039-44d7-910e-5096d81c8e45"
      },
      "outputs": [
        {
          "output_type": "stream",
          "name": "stdout",
          "text": [
            "(4799,)\n"
          ]
        },
        {
          "output_type": "stream",
          "name": "stderr",
          "text": [
            "<ipython-input-14-bd60949b9900>:12: UserWarning: No data for colormapping provided via 'c'. Parameters 'cmap' will be ignored\n",
            "  plt.scatter(x_train_pca[:, 0], x_train_pca[:, 1], cmap='tab10', alpha=0.6, s=1)\n"
          ]
        },
        {
          "output_type": "display_data",
          "data": {
            "text/plain": [
              "<Figure size 800x600 with 2 Axes>"
            ],
            "image/png": "[encoded data removed]"
          },
          "metadata": {}
        }
      ],
      "source": [
        "# import PCA decomposition class from sklearn\n",
        "from sklearn.decomposition import PCA\n",
        "\n",
        "x_train = np.array(df['one_hot_overview'])\n",
        "print(x_train.shape)\n",
        "x_train_reshaped = [vector.reshape(-1,) for vector in x_train]\n",
        "pca = PCA(n_components=2)  \n",
        "x_train_pca = pca.fit(x_train_reshaped)\n",
        "x_train_pca = pca.fit_transform(x_train_reshaped)\n",
        "\n",
        "plt.figure(figsize=(8, 6))\n",
        "plt.scatter(x_train_pca[:, 0], x_train_pca[:, 1], cmap='tab10', alpha=0.6, s=1)\n",
        "plt.colorbar()\n",
        "plt.title('One hot overview')\n",
        "plt.xlabel('Principal Component 1')\n",
        "plt.ylabel('Principal Component 2')\n",
        "plt.show()\n",
        "# we did exactly this in the lecture notebook"
      ]
    },
    {
      "cell_type": "markdown",
      "id": "a63054b6",
      "metadata": {
        "id": "a63054b6"
      },
      "source": [
        "**Q3.2** Do you see any interpretable structure in the above plot (\"interpretable\" $\\rightarrow$ the patterns are explainable)."
      ]
    },
    {
      "cell_type": "markdown",
      "id": "a9409e7b",
      "metadata": {
        "id": "a9409e7b"
      },
      "source": [
        "Yes, there tends to be groups with an upwards slope"
      ]
    },
    {
      "cell_type": "markdown",
      "id": "4482c5e5",
      "metadata": {
        "id": "4482c5e5"
      },
      "source": [
        "**Q3.3** Quantify how much variance information a 2D PCA projection loses for this dataset."
      ]
    },
    {
      "cell_type": "markdown",
      "id": "2338a25d",
      "metadata": {
        "id": "2338a25d"
      },
      "source": [
        "90% of the variance (bruh)"
      ]
    },
    {
      "cell_type": "code",
      "source": [
        "explained_variance_ratio = pca.explained_variance_ratio_\n",
        "variance_lost = 1 - sum(explained_variance_ratio)\n",
        "print(\"Variance Lost: {:.2%}\".format(variance_lost))"
      ],
      "metadata": {
        "colab": {
          "base_uri": "https://localhost:8080/"
        },
        "id": "CXhwssbmeCEG",
        "outputId": "770c5fdf-8859-4ec6-f31c-61ed05ffa31f"
      },
      "id": "CXhwssbmeCEG",
      "execution_count": 38,
      "outputs": [
        {
          "output_type": "stream",
          "name": "stdout",
          "text": [
            "Variance Lost: 90.61%\n"
          ]
        }
      ]
    },
    {
      "cell_type": "markdown",
      "id": "7da99ba5",
      "metadata": {
        "id": "7da99ba5"
      },
      "source": [
        "**Q3.4** Plot a line graph where the y-axis is cumulative explained variance ratio and the x-axis is the number of PCA components."
      ]
    },
    {
      "cell_type": "code",
      "execution_count": 39,
      "id": "e0cac8ff",
      "metadata": {
        "scrolled": false,
        "colab": {
          "base_uri": "https://localhost:8080/",
          "height": 507
        },
        "id": "e0cac8ff",
        "outputId": "862be01d-e5f0-47c2-b857-bb19e1bc3de8"
      },
      "outputs": [
        {
          "output_type": "stream",
          "name": "stdout",
          "text": [
            "[0.05658221 0.03735971 0.02330127 0.02064583 0.01869927 0.01748225\n",
            " 0.01501631 0.01368102 0.01173508 0.00874848]\n"
          ]
        },
        {
          "output_type": "display_data",
          "data": {
            "text/plain": [
              "<Figure size 640x480 with 1 Axes>"
            ],
            "image/png": "[encoded data removed]"
          },
          "metadata": {}
        }
      ],
      "source": [
        "# Set up PCA object with the desired number of components\n",
        "pca = PCA(n_components=10)\n",
        "x_train_pca = pca.fit(x_train_reshaped)\n",
        "\n",
        "\n",
        "# fit transform one_hot_overview encodings\n",
        "labels_pca = pca.fit_transform(x_train_reshaped)\n",
        "# get explained variance ratio from object, store it in a list\n",
        "variance_list = pca.explained_variance_ratio_\n",
        "print(variance_list)\n",
        "\n",
        "plt.plot(variance_list)\n",
        "# set up y label, x label, title \n",
        "plt.ylabel('Explained variance')\n",
        "plt.xlabel('Number of components')\n",
        "plt.title('Explained variances vs N of components')\n",
        "plt.show()"
      ]
    },
    {
      "cell_type": "markdown",
      "id": "8b36c9b2",
      "metadata": {
        "id": "8b36c9b2"
      },
      "source": [
        "**Q3.5** How many principal components do you need in order to explain 80% of the total variance in the data?\n",
        "\n",
        "Note: don't just estimate it by eye, write some code to compute it for you."
      ]
    },
    {
      "cell_type": "code",
      "execution_count": 40,
      "id": "95c44b2d",
      "metadata": {
        "colab": {
          "base_uri": "https://localhost:8080/"
        },
        "id": "95c44b2d",
        "outputId": "efb451f5-f82f-4d2c-8066-403df5c79603"
      },
      "outputs": [
        {
          "output_type": "stream",
          "name": "stdout",
          "text": [
            "(4799,)\n",
            "Number of components needed to explain 80% of the variance: 1355\n"
          ]
        }
      ],
      "source": [
        "from sklearn.decomposition import PCA\n",
        "\n",
        "x_train = np.array(df['one_hot_overview'])\n",
        "print(x_train.shape)\n",
        "x_train_reshaped = [vector.reshape(-1,) for vector in x_train]\n",
        "pca = PCA()  \n",
        "x_train_pca = pca.fit_transform(x_train_reshaped)\n",
        "\n",
        "explained_variance_ratio = pca.explained_variance_ratio_\n",
        "cumulative_variance_ratio = np.cumsum(explained_variance_ratio)\n",
        "\n",
        "# Find the number of components needed to explain 80% of the total variance\n",
        "num_components = np.argmax(cumulative_variance_ratio >= 0.8) + 1\n",
        "\n",
        "print(\"Number of components needed to explain 80% of the variance:\", num_components)\n"
      ]
    },
    {
      "cell_type": "markdown",
      "id": "b608db91",
      "metadata": {
        "id": "b608db91"
      },
      "source": [
        "Im writing this before running the code but I assume that never because the explaned variance is the range of 5 to 1% in the graph above.\n",
        "Nvm, just took a while to run. Answer is 1335."
      ]
    },
    {
      "cell_type": "markdown",
      "id": "ee3b5c33",
      "metadata": {
        "id": "ee3b5c33"
      },
      "source": [
        "**Q3.6** Using the number of dimensions you found in Q3.5, fit and transform your overview encodings using PCA and add it to a new column called `overview_pca` in the dataframe."
      ]
    },
    {
      "cell_type": "code",
      "execution_count": 41,
      "id": "8a6eb40b",
      "metadata": {
        "colab": {
          "base_uri": "https://localhost:8080/"
        },
        "id": "8a6eb40b",
        "outputId": "7bdea611-e2a8-4ed6-82d2-a82af56264bf"
      },
      "outputs": [
        {
          "output_type": "stream",
          "name": "stdout",
          "text": [
            "[0.12527627702634317, 1.3130672688252492, 1.321024977997604, 0.8991166078655715, 0.6967619437478794, -0.6143728752469989, 0.15983339024227328, 0.24983392405423138, 0.1301950742355308, -0.29784516411522455, 0.049371949995065875, 0.27818773287283866, 0.6739940703087846, -0.14658199244851208, 0.016967578349495617, 0.18790165622669208, -0.10538180919501447, -0.13191612829150656, -0.26457405272131146, 0.5793631044450892, -0.15784788311019698, 0.022336873827869003, -0.23861220186228008, -0.19644192900734603, -0.19220384594692783, 0.13235410970133318, -0.32653180926123593, -0.15556908475541598, 0.12035828634991204, 0.01725815648651193, 0.10445147225155843, 0.118423889774831, -0.13893372824773068, 0.005375864100719065, 0.02700125059732691, -0.08000428778572335, -0.07367560994635507, 0.043043840751671725, 0.056601265327960955, -0.014592047011576683, 0.017225156571269887, 0.04225409922497013, -0.07035113135306073, -0.0333153556464214, 0.03875551412225312, -0.014286532338100568, 0.03528700783067894, 0.02854392207094446, -0.08774412847417089, -0.027156395216985558, -0.0009479170536640188, -0.014642514668436754, 0.03427385790850111, 0.04240845054865671, -0.010099722817732916, 0.062323384440446515, -0.0039006451945867485, 0.02265864990247339, -0.08214384080485317, -0.04051919970670862, 0.013068892073911731, 0.023347634404760568, 0.006829282117117691, -0.06632751828716789, -0.10316929081105788, -0.0053657832075913675, -0.06115157595845585, -0.07010846000420534, 0.01689320767478043, 0.04403717685923447, -0.002397661667271462, 0.0014720470257763721, -0.024104147342481973, 0.058519991142144165, 0.0512747561159832, -0.042334544416998215, 0.019946535368274426, 0.044728860027388226, -0.05152818846189104, 0.0011337669230621552, -0.005512619990997088, 0.03474323194776473, -0.0948139309067367, 0.03726518083784594, 0.013178173894921055, -0.033445161235195676, 0.014053766942287757, -0.08520210932505712, 0.024415274443089902, 0.01780724775400721, -0.06827186128078186, 0.007647929189058599, 0.04868270339251296, -0.020274518613388633, -0.0452824655420278, 0.08271102053994286, -0.02117365837079978, 0.045500875105212585, -0.041881694148425734, 0.07010187223065752, -0.016648223969648816, -0.018278497310942922, -0.00302332348048705, -0.055698684711676036, -0.0060804983773582325, -0.009466319973684518, -0.0794390169332672, 0.04095129339140279, -0.0007625394790849242, 0.035090823786380565, 0.005550538750976781, -0.010876633608659923, -0.1470009423537942, -0.055604193019108766, -0.009469821755570885, 0.06714816863466253, 0.021682741443156312, 0.06411970908928877, 0.016735325542438402, 0.08682395137204281, -0.04651856867522226, 0.032195082350086085, -0.11326545220918738, 0.018548780272570828, 0.07346199627571043, 0.04985704254527946, -0.06981191500970745, -0.10326962108686205, -0.09691959817330531, -0.01644704209774431, -0.02025261254074721, -0.0391178422294605, 0.07083395019580346, -0.01621212782308871, 0.11184735742364975, -0.160566664819678, -0.10636816297667533, -0.12452623471142539, 0.057276825773074844, -0.02589574247324573, -0.16807375332820687, 0.08427183145957474, -0.07309110109973879, 0.28782113668207815, -0.12002887621617243, -0.008686487039468624, 0.16215641910873105, -0.10119262166086465, -0.2196638203386572, -0.0911526087681418, 0.005670496108000663, 0.09647336130709507, 0.24995749320589095, 0.21540232604386733, 0.1347546723400505, -0.049197426704833645, 0.05900948882685202, -0.17183421587342151, 0.10617365912998565, -0.05758236835212994, -0.1663789586407124, 0.12425503189783452, -0.09677111623841624, 0.04914405283153134, 0.013223102544248978, 0.21751846895458102, 0.053604296907530054, -0.13044750489357915, -0.11183285438716982, -0.03087394774513166, -0.029945810864579384, -0.0249628778605114, 0.0686196404561168, 0.04992081585727195, -0.038083396335286394, 0.09461842246079206, 0.0776846018995156, 0.029248044196546065, -0.013085322066583407, 0.012529382741293957, 0.04375725063424879, 0.0035083454607126867, 0.07932945240482392, 0.03377974257121246, -0.055118037864918305, -0.028022879307528798, 0.010876222322728793, 0.007952920542252894, -0.021856459410182678, 0.06273658600405264, 0.08616894289681803, 0.013164055684155823, -0.1131685428080645, 0.025188540894725654, 0.008076681551107398, -0.007849753584964009, -0.003636237692703412, 0.09269656937637956, -0.051693718594255485, 0.026822590236157094, -0.012181793533056116, 0.0040437088828648715, 0.03235346563608227, -0.04332536660398905, 0.03328969206973028, 0.09969549511792843, -0.04722194494314453, 0.017918532126651582, 0.03866332325485357, 0.083371114973284, 0.027495942725201367, 0.06506060628962163, 0.014702686328829682, -0.018753908260408323, 0.03684351780341313, -0.006810598818734586, 0.08849131779536355, -0.05360712577814786, -0.06801983328140855, 0.032938332528442145, -0.0038348053298051152, -0.053729272410541935, -0.016677029107218445, -0.07959424698560051, 0.04938879832218067, -0.03326682500494763, 0.008926418343797014, -0.029277032238206192, -0.029340036220245534, 0.09725505433824824, 0.010440363121017171, -0.059831403230494976, 0.01777702462689969, 0.043123523850400663, 0.015799930068065585, 0.014348769763889073, 0.05024594776945483, -0.023822828234256757, -0.04982771714601135, 0.005013681971212252, -0.017884893733028526, 0.02762075045035172, 0.030203199121650225, 0.02509275877063803, 0.039012710104168645, 0.029933507344599576, 0.0018759736351763774, 0.016748893491148432, 0.043531808711984525, -0.023381198895933847, -0.06897242535191336, 0.07519437714674805, -0.032183152852341634, 0.01166265142151798, -0.015045274842213314, -0.03368334539132611, -0.013695816878345042, 0.07101030499610318, 0.02942730224661433, 0.021069353962306185, -0.04276112214625896, -0.017032178833522402, -0.004028589759475153, -0.05095190527900681, 0.0013039898245496557, -0.012032234184472225, -0.016525160995050636, -0.009928440465599798, 0.06227045888930345, 0.07276107464361528, -0.057908114451317584, -0.020632397541361615, 0.03959908070827353, 0.01769865966022426, 0.02635035739265113, -0.024822267154336254, -0.035659384808191065, -0.030922128309016805, 0.043440231971896864, -0.04327734951861121, 0.013114090163746506, 0.02706391609891962, -0.025606421883945945, -0.03325443562743856, -0.023509017108556712, 0.018648219157252677, 0.046455160554691635, 0.048051349960420764, 0.021272799511379198, -0.011255477678511048, 0.020502190756906093, 0.025632053826858726, 0.009810159221520367, -0.006267886707671618, -0.00829126247187853, -0.022021111353349304, 0.021319585029452387, 0.002460487148871958, -0.010880584928717138, 0.011085632344805793, -0.012659457352503619, 0.04018802926408464, -0.003363290727890329, 0.0008099424334233992, 0.029211255368966998, 0.03133534227113636, 0.0019868805715967746, 0.026433120454724516, -0.024364844439963344, 0.03020734243706231, -0.035800973599381225, 0.04638719954014362, 0.04998199464789405, -0.028589632687090485, 0.037070978246928, 0.02263038139860292, 0.09244145156293966, 0.007937041939605318, 0.03892035612944314, -0.027374456149975565, -0.06756804236218815, 0.0014952193763005707, -0.010195143727987719, -0.009924973538395715, 0.006397355572513869, 0.003480524584328789, -0.0076581643687739665, -0.015238307650439464, 0.04541585827639434, 0.01758735318235686, 0.002558670912821051, 0.04407384895451066, 0.007587633320960354, -0.009112859508563692, 0.0014341472224514511, -0.04718591049420742, -0.005991367315456082, 0.009479000191062998, -0.029278974286266354, 7.756250211915414e-05, 0.009295346734933235, -0.030644541266836783, 0.0017630467113072528, 0.0013634715511319465, 0.0070652738864570245, -0.0037782147005976634, 0.04319062982032485, 0.032033870751215145, 0.02242793204941976, 0.025114844231924466, 0.00906414381064293, 0.0352972855365556, 0.08859448424490321, -0.025620660354488036, -0.026683138872390162, 0.01818501705665248, -0.005886916624955699, -0.030127479407286, -0.03745634633210842, -0.06771646190999062, -0.009687458028944999, -0.030514026143771675, 0.022359457355987062, 0.0007605929611335405, -0.021799032607891265, 0.010573776906251707, 0.048947807349213356, 0.02143890298921265, 0.055536101157139944, 0.0033010825968584068, 0.05508076035762957, 0.022256694829206305, -0.02809651054577033, -0.007569812470773461, -0.01853527614393339, 0.01756864607102259, 0.015399134476603717, -0.022710860367968978, 0.0099632877835102, -0.04109432692715363, 0.03434529124836956, -0.020495814183184496, -0.046615450290856855, -0.02798730576114049, 0.01905150929231978, -0.03839673838158719, 0.024513662545006542, -0.06251532072542754, 0.03821460625908794, -0.042549560114339906, -0.017386739219264622, 0.0029549570750309197, 0.03364349445264232, -0.002388243056691197, 0.049369010030263484, -0.029016872429699428, 0.01737637965292037, -0.014337210617431477, -0.019800678314634283, 0.033146910387039506, -0.023909397432945494, -0.0536305483686566, -0.002173204506768557, -0.02942375698457449, -0.023452833892401596, 0.000855259979425405, -0.034628557635478854, 0.022876221365602804, -0.02282990065544884, -0.05459477558232648, 0.0036249752028303375, 0.056966948043448415, 0.03954960296262552, -0.02378718599250987, -0.03301447054959428, 0.024184486453242122, -0.05345156814318057, 0.03305904509375921, 0.019078449677899068, -0.012839222415806262, -0.05842902102508046, 0.021833243251387517, 0.020025078999456488, 0.05006420520896583, 0.050383685694222614, -0.02837575862264486, -0.03609082646117967, 0.018683329086085807, 0.03865479250988914, -0.027227904134752415, 0.006465946497916987, -0.01895351944154986, -0.09042205400589687, 0.007865739835673841, 0.019038724501722313, 0.017746376574292184, 0.040665211131773384, 0.014524231888617015, -0.01429914778199126, 0.03061317463093104, 0.023048827295199453, -0.02550228021091134, 0.026975309734140168, 0.0408660657956263, -0.023948201395327114, -0.03872487052360753, -0.027461773246439627, 0.019346054025714182, 0.04777241604826463, 0.021173442388626083, -0.01929565951478515, -0.0038427532196151745, -0.040400394721373564, 0.0073871150723717055, -0.03774877215786043, 0.00793643880728978, -0.026688157923638527, -0.0006667331792425045, 0.017498272133723985, -0.006913016053410048, -0.04673903389995812, -0.026050793619856186, -0.059668093410477026, 0.03787615328829357, 0.011379327242829359, 0.024623402048433926, 0.015211948375396793, 0.024617586564720663, 0.04544085784855514, -0.0220337932848105, -0.002294260597434373, 0.02521825407853383, 0.07889069577570493, -0.0013355265543382473, 0.057108631054089996, -0.00733149884123402, 0.012751740649172874, 0.03520283063426229, 0.014137900849547472, 0.06172212425895413, 0.011470381898967551, -0.004841349136879952, -0.049652722613639406, -0.014628217264088198, -0.03193054513593597, 0.0015839634283388378, -0.010428767379136325, 0.011346133580109169, 0.004409868896374068, 0.027200397427325804, 0.032261906859460725, 0.015011524451168013, 0.020370709191428367, 0.02393404612114175, 0.010151422674300439, 0.0382157467719453, 0.03949250966474906, 0.009317731327557347, 0.0049279638878967, -0.016263338428401677, 0.010090399556830444, -0.0032503088534644163, -0.05398472124692446, -0.03237677481978681, -0.0122477061326991, -0.006790268377033094, 0.019028570710721945, 0.004758008274856938, -0.05082686774261422, 0.04955369061154495, 0.003933419296597414, 0.017694077852402117, -0.04822417338666392, -0.005253947338740175, -0.020668159650159425, 0.035504694257353205, -0.006673821229204507, 0.028221461023499275, 0.02816501954233635, 0.034305868043510115, 0.01851217630309234, -0.005919724630524624, -0.04235275636082576, 0.013602871957124065, 0.011589162204623873, 0.01220733067440621, -0.011463503557355956, 0.012382680472005593, -0.014219529687492037, -0.05574288353962282, 0.014860780240283904, -0.01937530863508484, -0.03587854503535646, -0.014643576954732547, -0.012502413411645413, -0.013624888841171945, 0.010805288897095679, 0.038854720336844596, -0.024880376113033974, 0.0061170100275669565, 0.018505941192570482, -0.010695161473321484, -0.06120516629990432, -0.01367594117392009, -0.02920183475109151, 0.001981093669592319, 0.02125287460858678, -0.01777696385943969, 0.00041900804805756635, 0.004424038255361482, 0.005612756776004574, 0.04473429872677115, 0.01627294743921785, -0.008828592603606788, 0.005371228920496581, -0.00915373661062941, -0.03502246768489072, -0.0032913707266272857, 0.011815108725034848, 0.01404977954566733, 0.03251432052149457, 0.01521861913290596, -0.05077116841100952, 0.023917397663498412, -0.02122502155233758, 0.01534190494951734, -0.04761168881533313, 0.03239589158170986, 0.012529768000572055, 0.002011900427519225, 0.03512114394735441, 0.028628541176289334, 0.06263009626187514, -0.01505935398628146, 0.013955842196898731, 0.034111839732442376, 0.03838570948371517, 0.043909449141902215, 0.06799908300284907, -0.029001072644885856, -0.046934458373060255, -0.03752802823382721, 0.025559446374189138, 0.005015211432785473, -0.005874428517856931, -0.022565719753955844, 0.010977210744872021, -0.05735030826997054, 0.02069902807675536, -0.0386860849191608, -0.007975292127536605, 0.0158134822822682, -0.013688336776552557, -0.0492204124612296, 0.01953688584140791, -0.015534675514810687, 0.06749037278744124, -0.027263240383894393, 0.02400387653927742, -0.00875253088960342, -0.04196612886324969, -0.009852057963377523, -0.017707181887737056, -0.03098489416411695, -0.02143452230110789, 0.00033004720337534747, 0.05824180054007307, 0.050695971949315584, 0.05699743070407772, -0.00820254029942082, 0.0030209546792452193, 0.038173081224574384, -0.025429478541242476, 0.010575349022001357, 0.009105757378941317, 0.01815938837729762, -0.020648475095330632, 0.003413782727326341, 0.013872630114873578, 0.03533353326065785, 0.00611167044979954, 0.05416063496395704, 0.07712301892266812, -0.06361060043491625, 0.013403714802624112, 0.03384495654952434, -0.036036087928278775, 0.00510284517912324, 0.0019259555624852858, -0.06016113639110595, -0.04364155894532707, 0.0068496084607026515, -0.03709976594237051, 0.014804140100189718, -0.024260717774590206, -0.006471180884182551, 0.012048803110720022, -0.015226361905812655, 0.0431704113352278, -0.009712081764479996, 0.015112101454214233, -0.03884486289056258, 0.005888129076468976, 0.03246328908164092, 0.003107847621599788, 0.010509329992148559, -0.04952763685620656, 0.017350874100068244, 0.028513726330175883, 0.02258374940550514, 0.013851930696089412, -0.06475288234445496, -0.0023452040945223388, -0.03408075313417469, -0.004394729703573276, -0.019715998837774376, 0.03226270634008702, -0.008676182299147033, 0.025912353122119498, -0.01639423636434392, -0.015950823095912805, -0.07194101510430029, -0.03003223813895971, 0.020979430512257494, 0.005877094087886142, 0.014141484257553584, -0.038664557294214606, 0.010210094912590076, 0.06989755482386419, -0.040641195549772836, -0.017173343719379643, 0.06347155726692097, 0.010265697857873178, -0.0012081372974035453, 0.05224885711822605, -0.014050156629148783, 0.0013032338721713312, 0.0405013483105985, -0.031525224357237674, -0.020266756365597806, 0.012821778351811048, -0.04130796879067211, 0.06429548546071887, -0.008421602773955712, 0.0299781840708629, 0.029073766444940686, 0.005362750382679132, 0.007629878052745836, 0.004642042717719531, 0.03327862936362573, -0.009288681298635929, -0.0188121593748098, -0.029346654429384222, -0.015418339215849897, 0.00768150724700834, 0.03058975359641156, -0.019505565649086523, 0.05425408005279057, -0.020054213228831805, -0.03942585424299409, -0.01963850241221457, 0.025372396306533356, -0.0438751686239046, -0.0398064027739707, -0.018609796112049923, 0.012922012561854743, 0.03838558098295396, 0.05527044297082753, -0.02295053814784352, 0.09283128814351982, 0.00543730253638856, 0.01665100973122499, -0.003740145560424919, 0.008865167780657521, -0.018161128881341467, 0.01627367881549221, -0.0028326841600707273, 0.04906974007554874, 0.05867725173326306, 0.007504518714961434, 0.006131247880174352, -0.038537633529625644, 0.03881313779392572, 0.01179681234374708, -0.021311707754671148, 0.040394133524329336, 0.08013856423871142, -0.006066003752137264, 0.00510717966930964, 0.03536329210133027, 0.020127673974324026, -0.007178597304879954, 0.049843959010724775, -0.022744710553985095, -0.04997878322469269, -0.026120619197988186, -0.037541237804464236, 0.027406678336445216, -0.03292386313672081, -0.006352475656511493, 0.02146287261289091, 0.03101592714080015, 0.022121766813214535, 8.05496501410606e-05, 0.03133463895365348, -0.004797626663839483, -0.031586348285422935, -0.05926285260392655, -0.1011476708940792, -0.0036663359966822837, -0.015042614150354326, 0.017365393027832195, 0.02958889079231503, -0.01423358652230534, -0.03185140012092752, -0.03548564061785915, -0.0291867270133818, -0.04988345015510299, -0.02347350590578517, -0.006606049598527247, 0.02010949400375479, -0.03173512078283122, -0.003181663174510992, -0.03178513483517773, 0.014414857064044427, 0.017333645985381674, -0.055850330181656305, -0.020588903871437948, 0.028711260501002613, -0.02152372188259587, 0.028957604268459468, 0.013109824361798335, 0.0036233957292907707, -0.028887139111235433, -0.08558461564919032, -0.0001249308577773444, 0.015338052542264165, 0.007378419376917686, 0.018546315173981982, 0.01487389802423141, 0.003398206839812225, 0.09065896761795442, 0.0029765189566109654, -0.023982647832565818, -0.04489012043603336, -0.04329629816689228, 0.025485920632057332, -0.052538924817567584, 0.01531677379366376, -0.0443619408153091, -0.05737119474277316, -0.02334105733707679, -0.0462140761496304, -0.026256492693194935, 0.002935992502588652, -0.0006676378112984976, 0.06545064467463459, -0.02155093925556902, 0.0035793568922137036, 0.007133105344974103, 0.011267701397821043, 0.06851682443442866, 0.019498116323292482, -0.04982530350502441, -0.05299352775976061, -0.01535517272713128, -0.015019259617415869, -0.0054427615451262765, -0.0671921050432842, 0.024150631871731082, -0.0010816334157359767, 0.03948377218812343, 0.01326571087925305, -0.022399192185153658, 0.03867761461400562, 0.01853642256160259, 0.025171126644886566, -0.03294732434561798, 0.03194928267492415, 0.0413013937387683, 0.017504715153110775, -0.060628762142023875, -0.05482899098571951, 0.03428164393132058, -0.05377144305814903, 0.08924101783193099, -0.022134461907895173, -0.03421953006090745, 0.03067250348807091, -0.009087469362192525, -0.017121184540153652, 0.04131540598633816, 0.03918768292080408, -0.034784226191027466, 0.03676473672188334, -0.015667070175006435, -0.026553637706870442, -0.014089627833414792, 0.05932996095616095, -0.03996421776679458, 0.01786402821300087, 0.06308000035399204, 0.0009844448634497142, 0.005137387105164255, -0.04338189699110925, 0.007009105931320515, 0.018149654428552323, 0.004920221070829238, 0.06586627908127014, -0.0583220508254792, 0.010844490000581918, 0.011983236021755928, -0.02549164398365852, -0.0024265262159359744, 0.03206793674619382, 0.02048510022688537, -0.042813487809543485, 0.03331230182130676, -0.0696458416685035, 0.07861895620676959, 0.04318745962984488, 0.000934539497984091, 0.020506931030348275, -0.0756610372328396, -0.012266676456203182, -0.07166391222313213, -0.01591372252018649, 0.02702680224096356, 0.019915196644987757, 0.03085226885128018, 0.03267031874603609, 0.02819370631944518, -0.025246658896021214, 0.005313577304242403, -0.05533433021144307, -0.019303424063983235, 0.009855987152186234, 0.03200668779549747, 0.021713023750629154, 0.08218787072079879, 0.0025911184467001893, 0.04344097411041163, 0.004476855136999901, 0.016437250468256122, 0.07555771100724482, 0.022378883905761794, -0.040942257338354805, -0.031816850223697075, 0.03409123095644577, 0.07202760550826567, 0.013344504082178965, -0.052361123160165696, 0.0437496840608332, 0.024050937374775715, 0.07552344518862511, -0.02707650014806705, 0.06873122543624903, -0.015480848360989292, -0.008380767577355258, -0.0007692366933202888, 0.012273002191445394, -0.02547442041578448, 0.004534753292004201, 0.06577836190654025, -0.028120227512333125, 0.03058417697639803, -0.04281891039425059, 0.013157954677419571, -0.04734316761340046, 0.030320453713963882, 0.0017368444864223566, -0.028077870788967115, -0.01636538265495401, 0.0107177645491398, 0.03671582314278234, -0.025481822285674634, 0.011770980500141569, -0.0029845038632190873, 0.0397623906820532, 0.04704639823084313, -0.003993795705945741, 0.07779617149514996, 0.04662966762540754, 0.04638331934288129, -0.053426154620736334, 0.07200205527306112, 0.08032359898920724, 0.05926230934452489, 0.028347552650927425, 0.001168473062119827, 0.027715769361487425, 0.04176317335782492, 0.034665347448200684, 0.03200982967311564, -0.031843395910615864, 0.03672996897813016, 0.03800571961673485, -0.042364611891019026, 0.02998260666319421, 0.05739918662674407, 0.06568723259864426, 0.020352583117470544, -0.05494783800731382, 0.017697874144313827, -0.05195891693461192, -0.12775227584131468, 0.06669185820631927, 0.05861167312452949, 0.03439233113542994, -0.04744017152107855, -0.002279462881267215, 0.04301760887474015, 0.02446481498517495, 0.012437810696911486, 0.06382742105965859, 0.011645302522755994, 0.08178489133347389, 0.06638894084157634, -0.03084344336317431, -0.02009730598288887, -0.018472271283934145, 0.006773704894778236, -0.06022776794077037, 0.10486337508522207, 0.027007894923040822, -0.007064638856174923, -0.1550435987525994, -0.008349078112801354, 0.032856027330074096, -0.07225122428392027, 0.003236191243474148, 0.06477625934185341, -0.05805654921182105, -0.04742268644029624, -0.028700431403348475, 0.01703551710075062, 0.0852964474991549, 0.023005242161297502, 0.0911219623968677, -0.04843285386536315, -0.028178411414599244, -0.04890961586299897, -0.029560683137967097, -0.05603581375299906, 0.019571402903307392, -0.018114778932605803, 0.028929565678358856, -0.01637533292232241, 0.005032230412455804, -0.046607436635721776, 0.02387870545970865, -0.04238932866042625, 0.08376437688125228, -0.008800199537415168, 0.0376320819227295, 0.03497225081918821, -0.05478302225611097, -0.01661349354704363, 0.10032796706043885, -0.002567573589326389, 0.002874346650998261, 0.01768112802592381, 0.12386001008153348, 0.007755494339232508, -0.06570025784148743, -0.09534496281041288, 0.028171357773626435, 0.021933602323222324, 0.028570218955956024, 0.06111370867974298, 0.019044141694719206, -0.03306907719835258, -0.057887384512440264, -0.024731315371774563, 0.030236908363522573, 0.018142991993789197, -0.03970025024338359, 0.008387740649402385, 0.02513420168518552, -0.03850702145742293, -0.1185375884583624, -0.023084803181423405, 0.05238914800048537, 0.010786157253261335, -0.03999998057521093, -0.13956048073135788, -0.016855573417413276, -0.03942829980337647, -0.07220914271836609, -0.014552000207555232, 0.006578288133990499, -0.005874038893400042, 0.018433002113767197, -0.02108629359933023, -0.006973715849384557, -0.04622986696555652, -0.059379462225139346, -0.06248683694920022, -0.021498322272573686, -0.0324592482591987, 0.11709891834937135, -0.028461889608468113, -0.017721729673425887, 0.055369653647804745, 0.010800031953727049, 0.07322892507967453, -0.079511092807549, -0.09735016385772534, 0.0037459291640830603, -0.03598416254079351, 0.02762487075487984, -0.038217576568573386, 0.015334623521695831, 0.03237806889656245, -0.01540420109641477, 0.008154992000445747, 0.01610529758182925, -0.026511698205120896, -0.08043883228212154, 0.11492058024385932, -0.01875245976822862, 0.014754882884568186, 0.04985814377264463, 0.012617434020011526, 0.02413723657374302, 0.029342507521573344, 0.013955405863297786, -0.08543984522202092, 0.04734033912357943, 0.09450978578803117, -0.10983647143131219, 0.08489642783653348, 0.052100038124502854, 0.046669877767340794, 0.006151721220119107, 0.007970044011817699, 0.07199950929000995, -0.07986239080926587, 0.05640974269296529, -0.020252155465209587, -0.06855061593092054, -0.02571102499246617, -0.004909274335574927, 0.04847148260756267, 0.09482713295757737, -0.10809316426980721, 0.03769565296979646, -0.027303338791303578, 0.05349004611590782, 0.02939025743264517, 0.00589872569508195, -0.03141971562018182, 0.08851535381518218, -0.02115023707238705, 0.049819848655239314, 0.022186409036235175, -0.10105721621554599, 0.05675620251074175, -0.14882610181049385, 0.012090951422348187, -0.006752207487468653, -0.023829070844794225, 0.006006362902856404, -0.1116238577709442, -0.01054052181138648, 0.024310275908146346, 0.03725732745056888, -0.021240969554033116, 0.032719716562522295, 0.11878027130793263, -0.010362102520510827, -0.03514577756397855, 0.02832103956607098, -0.13583539228089883, 0.03929092296337781, 0.03440357852820294, -0.00010653568062223939, 0.10439028937755607, 0.16320661272342768, -0.03561137927394985, 0.0670157776778234, 0.034257250255756905, 0.04055342973409338, -0.007321379396306612, 0.040454122636290356, -0.027193576872058155, 0.10658070282420684, 0.004631751248197701, -0.026974513370160175, -0.019204703812469068, -0.06710026125715178, -0.03776783686841506, 0.011459995677438327, -0.08038784077175397, -0.011269047681346836, 0.07057515154175344, -0.051254157715281815, 0.028703865993285053, -0.06765933761336708, 0.11158987548064803, 0.02520363158120948, 0.07338136488290092, 0.06313718372654427, -0.09603492972011776, 0.08593818433012317, -0.03130931213427961, 0.009343231594561399, 0.02899452770868763, -0.012867810396087764, 0.010867708968595983, -0.07977577143912518, -0.024640028312010842, -0.07361937548455084, -0.01678705732501439, 0.027268330225842494, 0.03339160895399482, -0.034553039724252194, 0.026679260152887994, 0.07098763134966038, 0.03603017166579345, 0.09200866898285427, 0.0317499378584528, -0.09120312721861361, 0.0088293755017511, 0.015660613167420977, -0.028727574607365407, -0.05404830352013751, 0.02862576012466624, -0.038676162778783, 0.07631897858886709, -0.00661829861630312, -0.015358744649639463, -0.013376712107301916, 0.0217276657918956, -0.017187677847199996, -0.07814787455996422, 0.06438656127434836, 0.11852346615116631, 0.05419252252213642, -0.014090235916252816, 0.02649559974825454, -0.08091014747169878, -0.03435945578641338, 0.005066701955740761, -0.058948409299293604, -0.04154070666218624, 0.14649511491197176, 0.016520250006776066, -0.024197864497250136, 0.08087076542659595, -0.03669427594800963, -0.11168367311373657, 0.019872213014002358, -0.004397983852757697, -0.04587913318645873, -0.0239323378834946, -0.03814265074407664, -0.01730300740186573, -0.05271495321716673, -0.05249511592418195, -0.01097602126977181, 0.016784579956963322, 0.02770771769761635, 0.02522941570350072, -0.10345214216553811, 0.04152611547139379, -0.05386379860226534, 0.02909093853154329, 0.034019095072547724, -0.037819247718799694, 0.01732129365990628, 0.04449287994675267, -0.055504277739974996, 0.01434433471242805, -0.07104579992499409, -0.04368639885836396, 0.026842550513057468, 0.10522256435266279, 0.15901042849072125, 0.10594609001276643, -0.05429609375770993, 0.05547199755909429, -0.04679087370837011, -0.09970868213661471, -0.028877636034606392, -0.025963853116598115, 0.01567518740969659, 0.03218683908907812, 0.04925043933851863, 0.05970443229660541, -0.02102406926287559, -0.0018451364895919011, 0.020682118638273652, 0.14299630825480186, 0.001075539717751242, -0.027342779255512383, 0.10901477854965096, 0.009081859969041987, -0.014772591623792812, 0.06636837043170833, -0.09333733622065687, -0.017943698460241988, -0.023081150016587032, 0.0743346067908261, 0.011207372115205312, -0.0200183451031922, 0.030024201780973772, -0.008532502936399285, 0.07967714334591763, -0.008690365014063542, -0.001560272196378155, 0.04858361479024813, -0.06098555468168311, 0.014391272562092598, 0.011614197049964615, 0.026964524247980712, -0.009876783745007372, 0.034301351649129654, 0.04496268591953496, -0.07344785367020112, -0.07452257893579133, -0.0031361728542692174, 0.048958203937330004, -0.03706267673809255, -0.08620379993486879, 0.04462004995100604, 0.023965949932344386, -0.022848721151615965, 0.0032923590953942497, 0.027060488591916034, 0.03903162827518869, -0.10470541318232357, 0.004986484682177947, -0.0973907240089689, -0.07447770310542183, -0.03615128948234763, 0.05929639758492313, -0.060466456634116705, 0.028577879735203055, 0.0031966521115467466, 0.07012910523341745, -0.05427533817225591, -0.03506194886548988, 0.018939829173258614, -0.037073466214703865, -0.0468897487317755, -0.006931042295530054, 0.06132294879957965, 0.123433883605241, 0.02097787177774765, -0.023770238969727474, 0.1356439297982813, 0.04206914570099518, -0.02765069811801994, -0.04152027027010711, 0.1487876224714778, 0.14281925143505614, 0.03136617495299518, 0.06173544021670666, -0.07540712543079166, 0.05583866216971536, 0.128188796888374, 0.013287566675187415, 0.07541584234823331, -0.06308834990622861, -0.07713171732173338, -0.07793616173277534, -0.08576132236625642, -0.07395605626823562, -0.05943225641639621, -0.11000965327720316, -0.07245745759731008, 0.03256727401293184, 0.02960043586595431, -0.017802392772186246, 0.02048039127500199, -0.006266419806806183, -0.02502554971106986, -0.06517218220772404, -0.0024235214775892226, -0.03731837787852923, 0.004979073599424895, -0.01741592866566247, 0.011586357610727615, -0.013717774166120649, -0.000694938427519241, -0.058941632807226495, 0.0434000443749197, -0.03845345064882078, -0.03447387338680757, -0.11428051634092931, -0.0855823276251405, 0.012063488530348986, -0.08868510816912135, -0.039757434641393946]\n"
          ]
        }
      ],
      "source": [
        "n_dims = 1335\n",
        "pca = PCA(n_components=n_dims)\n",
        "labels_pca = pca.fit_transform(df['one_hot_overview'].values.tolist())\n",
        "df[\"overview_pca\"] = labels_pca.tolist()\n",
        "print(df[\"overview_pca\"][0])"
      ]
    },
    {
      "cell_type": "markdown",
      "id": "309d3256",
      "metadata": {
        "id": "309d3256"
      },
      "source": [
        "# Q4 K-Means Clustering\n",
        "\n",
        "**Q4.1** Cluster the movies based on the features that were extracted via PCA in the last step. Set $K=20$. Add the predicted cluster into the dataframe as a new column called `cluster_kmeans`. Print out the elements of cluster number 0 from the dataframe."
      ]
    },
    {
      "cell_type": "code",
      "execution_count": 42,
      "id": "f5f5781e",
      "metadata": {
        "colab": {
          "base_uri": "https://localhost:8080/"
        },
        "id": "f5f5781e",
        "outputId": "1819c505-4af5-4843-f433-b483bdb05516"
      },
      "outputs": [
        {
          "output_type": "stream",
          "name": "stderr",
          "text": [
            "/usr/local/lib/python3.10/dist-packages/sklearn/cluster/_kmeans.py:870: FutureWarning: The default value of `n_init` will change from 10 to 'auto' in 1.4. Set the value of `n_init` explicitly to suppress the warning\n",
            "  warnings.warn(\n"
          ]
        },
        {
          "output_type": "stream",
          "name": "stdout",
          "text": [
            "                                               title  \\\n",
            "44                                         Furious 7   \n",
            "52                    Transformers: Dark of the Moon   \n",
            "113        Harry Potter and the Order of the Phoenix   \n",
            "121   Night at the Museum: Battle of the Smithsonian   \n",
            "129                                             Thor   \n",
            "...                                              ...   \n",
            "4726                            Dude Where's My Dog?   \n",
            "4750                                         Hayride   \n",
            "4753                             The Call of Cthulhu   \n",
            "4788                                     Tin Can Man   \n",
            "4794                                          Cavite   \n",
            "\n",
            "                                               overview  \\\n",
            "44    Deckard Shaw seeks revenge against Dominic Tor...   \n",
            "52    Sam Witwicky takes his first tenuous steps int...   \n",
            "113   Returning for his fifth year of study at Hogwa...   \n",
            "121   Hapless museum night watchman Larry Daley must...   \n",
            "129   Against his father Odin's will, The Mighty Tho...   \n",
            "...                                                 ...   \n",
            "4726  Left home alone with his dog Harry, young Ray ...   \n",
            "4750  A college student returning home for Halloween...   \n",
            "4753  A dying professor leaves his great-nephew a co...   \n",
            "4788  Recently dumped by his girlfirend for another ...   \n",
            "4794  Adam, a security guard, travels from Californi...   \n",
            "\n",
            "                                                 genres proc_genres  \\\n",
            "44                       [{\"id\": 28, \"name\": \"Action\"}]      Action   \n",
            "52    [{\"id\": 28, \"name\": \"Action\"}, {\"id\": 878, \"na...      Action   \n",
            "113   [{\"id\": 12, \"name\": \"Adventure\"}, {\"id\": 14, \"...      Family   \n",
            "121   [{\"id\": 12, \"name\": \"Adventure\"}, {\"id\": 14, \"...     Fantasy   \n",
            "129   [{\"id\": 12, \"name\": \"Adventure\"}, {\"id\": 14, \"...      Action   \n",
            "...                                                 ...         ...   \n",
            "4726                  [{\"id\": 10751, \"name\": \"Family\"}]      Family   \n",
            "4750  [{\"id\": 53, \"name\": \"Thriller\"}, {\"id\": 27, \"n...      Horror   \n",
            "4753  [{\"id\": 27, \"name\": \"Horror\"}, {\"id\": 53, \"nam...     Fantasy   \n",
            "4788                     [{\"id\": 27, \"name\": \"Horror\"}]      Horror   \n",
            "4794  [{\"id\": 10769, \"name\": \"Foreign\"}, {\"id\": 53, ...    Thriller   \n",
            "\n",
            "                                         one_hot_genres  \\\n",
            "44    [1.0, 0.0, 0.0, 0.0, 0.0, 0.0, 0.0, 0.0, 0.0, ...   \n",
            "52    [1.0, 0.0, 0.0, 0.0, 0.0, 0.0, 0.0, 0.0, 0.0, ...   \n",
            "113   [0.0, 0.0, 0.0, 0.0, 0.0, 0.0, 0.0, 1.0, 0.0, ...   \n",
            "121   [0.0, 0.0, 0.0, 0.0, 0.0, 0.0, 0.0, 0.0, 1.0, ...   \n",
            "129   [1.0, 0.0, 0.0, 0.0, 0.0, 0.0, 0.0, 0.0, 0.0, ...   \n",
            "...                                                 ...   \n",
            "4726  [0.0, 0.0, 0.0, 0.0, 0.0, 0.0, 0.0, 1.0, 0.0, ...   \n",
            "4750  [0.0, 0.0, 0.0, 0.0, 0.0, 0.0, 0.0, 0.0, 0.0, ...   \n",
            "4753  [0.0, 0.0, 0.0, 0.0, 0.0, 0.0, 0.0, 0.0, 1.0, ...   \n",
            "4788  [0.0, 0.0, 0.0, 0.0, 0.0, 0.0, 0.0, 0.0, 0.0, ...   \n",
            "4794  [0.0, 0.0, 0.0, 0.0, 0.0, 0.0, 0.0, 0.0, 0.0, ...   \n",
            "\n",
            "                                          proc_overview  overview_len  \\\n",
            "44    [Deckard, Shaw, seeks, revenge, against, Domin...            90   \n",
            "52    [Sam, Witwicky, takes, his, first, tenuous, st...           308   \n",
            "113   [Returning, for, his, fifth, year, of, study, ...           308   \n",
            "121   [Hapless, museum, night, watchman, Larry, Dale...           294   \n",
            "129   [Against, his, father, Odins, will, The, Might...           342   \n",
            "...                                                 ...           ...   \n",
            "4726  [Left, home, alone, with, his, dog, Harry, you...           347   \n",
            "4750  [A, college, student, returning, home, for, Ha...           151   \n",
            "4753  [A, dying, professor, leaves, his, greatnephew...           345   \n",
            "4788  [Recently, dumped, by, his, girlfirend, for, a...           222   \n",
            "4794  [Adam, a, security, guard, travels, from, Cali...           638   \n",
            "\n",
            "                                       one_hot_overview  \\\n",
            "44    [0.0, 0.0, 0.0, 0.0, 0.0, 0.0, 0.0, 0.0, 0.0, ...   \n",
            "52    [0.0, 0.0, 0.0, 0.0, 0.0, 0.0, 0.0, 0.0, 0.0, ...   \n",
            "113   [0.0, 0.0, 0.0, 0.0, 0.0, 0.0, 0.0, 0.0, 0.0, ...   \n",
            "121   [0.0, 0.0, 0.0, 0.0, 0.0, 0.0, 0.0, 0.0, 0.0, ...   \n",
            "129   [0.0, 0.0, 0.0, 0.0, 0.0, 0.0, 0.0, 0.0, 0.0, ...   \n",
            "...                                                 ...   \n",
            "4726  [0.0, 0.0, 0.0, 0.0, 0.0, 0.0, 0.0, 0.0, 0.0, ...   \n",
            "4750  [0.0, 0.0, 0.0, 0.0, 0.0, 0.0, 0.0, 0.0, 0.0, ...   \n",
            "4753  [0.0, 0.0, 0.0, 0.0, 0.0, 0.0, 0.0, 0.0, 0.0, ...   \n",
            "4788  [0.0, 0.0, 0.0, 0.0, 0.0, 0.0, 0.0, 0.0, 0.0, ...   \n",
            "4794  [0.0, 0.0, 0.0, 0.0, 0.0, 0.0, 0.0, 0.0, 0.0, ...   \n",
            "\n",
            "                                           overview_pca  cluster_kmeans  \n",
            "44    [-0.3726287383846711, -1.3603669295516065, -0....               0  \n",
            "52    [-0.7881651609656466, -0.10561376879573983, -0...               0  \n",
            "113   [-0.040477051061007775, -0.7498774784538861, 0...               0  \n",
            "121   [0.11461465126075453, -0.5647294717290506, -0....               0  \n",
            "129   [-0.7393671916568303, -0.10009723326542139, -0...               0  \n",
            "...                                                 ...             ...  \n",
            "4726  [-0.46744121898318247, 0.26686358242310065, -0...               0  \n",
            "4750  [-0.48377381453777646, -1.1790512689080732, 0....               0  \n",
            "4753  [0.21864598970084273, 0.22158018701356016, 0.6...               0  \n",
            "4788  [-0.8364349533979402, -0.07476151099979426, -0...               0  \n",
            "4794  [-0.22956946354026816, -0.28052802137359123, 0...               0  \n",
            "\n",
            "[313 rows x 10 columns]\n"
          ]
        }
      ],
      "source": [
        "# import KMeans class\n",
        "from sklearn.cluster import KMeans\n",
        "\n",
        "# Perform K-means clustering\n",
        "kmeans = KMeans(n_clusters=20)\n",
        "# fit model\n",
        "kmeans.fit(x_train_reshaped)\n",
        "\n",
        "y_preds = kmeans.predict(x_train_reshaped)\n",
        "df[\"cluster_kmeans\"] = y_preds\n",
        "\n",
        "# print out elements of cluster 0\n",
        "cluster_0_elements = df[df[\"cluster_kmeans\"] == 0]\n",
        "print(cluster_0_elements)"
      ]
    },
    {
      "cell_type": "markdown",
      "id": "34334c6c",
      "metadata": {
        "id": "34334c6c"
      },
      "source": [
        "**Q4.2** Does this clustering seem alright to you (based on your movie watching history)? Are there movies that go well together and movies that don't?"
      ]
    },
    {
      "cell_type": "markdown",
      "id": "9f1d40cc",
      "metadata": {
        "id": "9f1d40cc"
      },
      "source": [
        "Some seem close enough: transformers, fast and furious, thor. But I imagine that 20 clusters is not enough for the wide range of movies."
      ]
    },
    {
      "cell_type": "markdown",
      "id": "0407f9e4",
      "metadata": {
        "id": "0407f9e4"
      },
      "source": [
        "**Q4.3** Now, we'll figure out whether using the elbow method is right for this dataset. Plot a loss (using `kmeans.inertia_`) versus cluster size plot. Is there an elbow that you see clearly? What cluster size would you choose?"
      ]
    },
    {
      "cell_type": "markdown",
      "id": "4984dcd9",
      "metadata": {
        "id": "4984dcd9"
      },
      "source": [
        "I would choose 20, as it has the lowest inertia and it does not take that long to run"
      ]
    },
    {
      "cell_type": "code",
      "execution_count": 43,
      "id": "cb3a37ee",
      "metadata": {
        "colab": {
          "base_uri": "https://localhost:8080/",
          "height": 1000
        },
        "id": "cb3a37ee",
        "outputId": "9e362980-f599-4b1e-be4b-a4ad74a18d41"
      },
      "outputs": [
        {
          "output_type": "stream",
          "name": "stderr",
          "text": [
            "/usr/local/lib/python3.10/dist-packages/sklearn/cluster/_kmeans.py:870: FutureWarning: The default value of `n_init` will change from 10 to 'auto' in 1.4. Set the value of `n_init` explicitly to suppress the warning\n",
            "  warnings.warn(\n",
            "/usr/local/lib/python3.10/dist-packages/sklearn/cluster/_kmeans.py:870: FutureWarning: The default value of `n_init` will change from 10 to 'auto' in 1.4. Set the value of `n_init` explicitly to suppress the warning\n",
            "  warnings.warn(\n",
            "/usr/local/lib/python3.10/dist-packages/sklearn/cluster/_kmeans.py:870: FutureWarning: The default value of `n_init` will change from 10 to 'auto' in 1.4. Set the value of `n_init` explicitly to suppress the warning\n",
            "  warnings.warn(\n",
            "/usr/local/lib/python3.10/dist-packages/sklearn/cluster/_kmeans.py:870: FutureWarning: The default value of `n_init` will change from 10 to 'auto' in 1.4. Set the value of `n_init` explicitly to suppress the warning\n",
            "  warnings.warn(\n",
            "/usr/local/lib/python3.10/dist-packages/sklearn/cluster/_kmeans.py:870: FutureWarning: The default value of `n_init` will change from 10 to 'auto' in 1.4. Set the value of `n_init` explicitly to suppress the warning\n",
            "  warnings.warn(\n",
            "/usr/local/lib/python3.10/dist-packages/sklearn/cluster/_kmeans.py:870: FutureWarning: The default value of `n_init` will change from 10 to 'auto' in 1.4. Set the value of `n_init` explicitly to suppress the warning\n",
            "  warnings.warn(\n",
            "/usr/local/lib/python3.10/dist-packages/sklearn/cluster/_kmeans.py:870: FutureWarning: The default value of `n_init` will change from 10 to 'auto' in 1.4. Set the value of `n_init` explicitly to suppress the warning\n",
            "  warnings.warn(\n",
            "/usr/local/lib/python3.10/dist-packages/sklearn/cluster/_kmeans.py:870: FutureWarning: The default value of `n_init` will change from 10 to 'auto' in 1.4. Set the value of `n_init` explicitly to suppress the warning\n",
            "  warnings.warn(\n",
            "/usr/local/lib/python3.10/dist-packages/sklearn/cluster/_kmeans.py:870: FutureWarning: The default value of `n_init` will change from 10 to 'auto' in 1.4. Set the value of `n_init` explicitly to suppress the warning\n",
            "  warnings.warn(\n",
            "/usr/local/lib/python3.10/dist-packages/sklearn/cluster/_kmeans.py:870: FutureWarning: The default value of `n_init` will change from 10 to 'auto' in 1.4. Set the value of `n_init` explicitly to suppress the warning\n",
            "  warnings.warn(\n",
            "/usr/local/lib/python3.10/dist-packages/sklearn/cluster/_kmeans.py:870: FutureWarning: The default value of `n_init` will change from 10 to 'auto' in 1.4. Set the value of `n_init` explicitly to suppress the warning\n",
            "  warnings.warn(\n",
            "/usr/local/lib/python3.10/dist-packages/sklearn/cluster/_kmeans.py:870: FutureWarning: The default value of `n_init` will change from 10 to 'auto' in 1.4. Set the value of `n_init` explicitly to suppress the warning\n",
            "  warnings.warn(\n",
            "/usr/local/lib/python3.10/dist-packages/sklearn/cluster/_kmeans.py:870: FutureWarning: The default value of `n_init` will change from 10 to 'auto' in 1.4. Set the value of `n_init` explicitly to suppress the warning\n",
            "  warnings.warn(\n",
            "/usr/local/lib/python3.10/dist-packages/sklearn/cluster/_kmeans.py:870: FutureWarning: The default value of `n_init` will change from 10 to 'auto' in 1.4. Set the value of `n_init` explicitly to suppress the warning\n",
            "  warnings.warn(\n",
            "/usr/local/lib/python3.10/dist-packages/sklearn/cluster/_kmeans.py:870: FutureWarning: The default value of `n_init` will change from 10 to 'auto' in 1.4. Set the value of `n_init` explicitly to suppress the warning\n",
            "  warnings.warn(\n",
            "/usr/local/lib/python3.10/dist-packages/sklearn/cluster/_kmeans.py:870: FutureWarning: The default value of `n_init` will change from 10 to 'auto' in 1.4. Set the value of `n_init` explicitly to suppress the warning\n",
            "  warnings.warn(\n",
            "/usr/local/lib/python3.10/dist-packages/sklearn/cluster/_kmeans.py:870: FutureWarning: The default value of `n_init` will change from 10 to 'auto' in 1.4. Set the value of `n_init` explicitly to suppress the warning\n",
            "  warnings.warn(\n",
            "/usr/local/lib/python3.10/dist-packages/sklearn/cluster/_kmeans.py:870: FutureWarning: The default value of `n_init` will change from 10 to 'auto' in 1.4. Set the value of `n_init` explicitly to suppress the warning\n",
            "  warnings.warn(\n",
            "/usr/local/lib/python3.10/dist-packages/sklearn/cluster/_kmeans.py:870: FutureWarning: The default value of `n_init` will change from 10 to 'auto' in 1.4. Set the value of `n_init` explicitly to suppress the warning\n",
            "  warnings.warn(\n",
            "/usr/local/lib/python3.10/dist-packages/sklearn/cluster/_kmeans.py:870: FutureWarning: The default value of `n_init` will change from 10 to 'auto' in 1.4. Set the value of `n_init` explicitly to suppress the warning\n",
            "  warnings.warn(\n"
          ]
        },
        {
          "output_type": "display_data",
          "data": {
            "text/plain": [
              "<Figure size 640x480 with 1 Axes>"
            ],
            "image/png": "[encoded data removed]"
          },
          "metadata": {}
        }
      ],
      "source": [
        "cluster_sizes = []\n",
        "losses = []\n",
        "\n",
        "\n",
        "for n_clusters in range(1, 21):\n",
        "    kmeans = KMeans(n_clusters=n_clusters)\n",
        "    kmeans.fit(x_train_reshaped)\n",
        "    cluster_sizes.append(n_clusters)\n",
        "    losses.append(kmeans.inertia_)\n",
        "    \n",
        "\n",
        "plt.plot(cluster_sizes, losses, marker='o')\n",
        "plt.xlabel('Number of Clusters')\n",
        "plt.ylabel('Inertia (Loss)')\n",
        "plt.title('Loss versus Cluster Size')\n",
        "plt.show()"
      ]
    },
    {
      "cell_type": "markdown",
      "id": "3e89e224",
      "metadata": {
        "id": "3e89e224"
      },
      "source": [
        "# Q5 Gaussian Mixture Models\n",
        "\n",
        "**Q5.1** As with the K-means above, cluster the movies based on the features that were extracted via PCA in a previous step. Set $K=20$. Add the predicted cluster into the dataframe as a new column called `cluster_gmm`. Print out the elements of a single cluster of your choice from the dataframe."
      ]
    },
    {
      "cell_type": "code",
      "execution_count": 17,
      "id": "86735028",
      "metadata": {
        "colab": {
          "base_uri": "https://localhost:8080/"
        },
        "id": "86735028",
        "outputId": "d595e180-2584-40e2-9fc0-923ec66b741c"
      },
      "outputs": [
        {
          "output_type": "stream",
          "name": "stdout",
          "text": [
            "                      title  \\\n",
            "6                   Tangled   \n",
            "31               Iron Man 3   \n",
            "48    Jack the Giant Slayer   \n",
            "61        Jupiter Ascending   \n",
            "67       Monsters vs Aliens   \n",
            "...                     ...   \n",
            "4679           Super Hybrid   \n",
            "4685     The Man from Earth   \n",
            "4740                 The FP   \n",
            "4752               Counting   \n",
            "4789                   Cure   \n",
            "\n",
            "                                               overview  \\\n",
            "6     When the kingdom's most wanted-and most charmi...   \n",
            "31    When Tony Stark's world is torn apart by a for...   \n",
            "48    The story of an ancient war that is reignited ...   \n",
            "61    In a universe where human genetic material is ...   \n",
            "67    When Susan Murphy is unwittingly clobbered by ...   \n",
            "...                                                 ...   \n",
            "4679  Late one night, a mysterious car is brought in...   \n",
            "4685  An impromptu goodbye party for Professor John ...   \n",
            "4740  Two rival gangs fight for control of Frazier P...   \n",
            "4752  An associative collection of visual impression...   \n",
            "4789  A wave of gruesome murders is sweeping Tokyo. ...   \n",
            "\n",
            "                                                 genres      proc_genres  \\\n",
            "6     [{\"id\": 16, \"name\": \"Animation\"}, {\"id\": 10751...        Animation   \n",
            "31    [{\"id\": 28, \"name\": \"Action\"}, {\"id\": 12, \"nam...           Action   \n",
            "48    [{\"id\": 28, \"name\": \"Action\"}, {\"id\": 10751, \"...           Action   \n",
            "61    [{\"id\": 878, \"name\": \"Science Fiction\"}, {\"id\"...           Action   \n",
            "67    [{\"id\": 16, \"name\": \"Animation\"}, {\"id\": 10751...  Science Fiction   \n",
            "...                                                 ...              ...   \n",
            "4679                     [{\"id\": 27, \"name\": \"Horror\"}]           Horror   \n",
            "4685  [{\"id\": 878, \"name\": \"Science Fiction\"}, {\"id\"...            Drama   \n",
            "4740                     [{\"id\": 35, \"name\": \"Comedy\"}]           Comedy   \n",
            "4752                [{\"id\": 99, \"name\": \"Documentary\"}]      Documentary   \n",
            "4789  [{\"id\": 80, \"name\": \"Crime\"}, {\"id\": 27, \"name...         Thriller   \n",
            "\n",
            "                                         one_hot_genres  \\\n",
            "6     [0.0, 0.0, 1.0, 0.0, 0.0, 0.0, 0.0, 0.0, 0.0, ...   \n",
            "31    [1.0, 0.0, 0.0, 0.0, 0.0, 0.0, 0.0, 0.0, 0.0, ...   \n",
            "48    [1.0, 0.0, 0.0, 0.0, 0.0, 0.0, 0.0, 0.0, 0.0, ...   \n",
            "61    [1.0, 0.0, 0.0, 0.0, 0.0, 0.0, 0.0, 0.0, 0.0, ...   \n",
            "67    [0.0, 0.0, 0.0, 0.0, 0.0, 0.0, 0.0, 0.0, 0.0, ...   \n",
            "...                                                 ...   \n",
            "4679  [0.0, 0.0, 0.0, 0.0, 0.0, 0.0, 0.0, 0.0, 0.0, ...   \n",
            "4685  [0.0, 0.0, 0.0, 0.0, 0.0, 0.0, 1.0, 0.0, 0.0, ...   \n",
            "4740  [0.0, 0.0, 0.0, 1.0, 0.0, 0.0, 0.0, 0.0, 0.0, ...   \n",
            "4752  [0.0, 0.0, 0.0, 0.0, 0.0, 1.0, 0.0, 0.0, 0.0, ...   \n",
            "4789  [0.0, 0.0, 0.0, 0.0, 0.0, 0.0, 0.0, 0.0, 0.0, ...   \n",
            "\n",
            "                                          proc_overview  overview_len  \\\n",
            "6     [When, the, kingdoms, most, wantedand, most, c...           492   \n",
            "31    [When, Tony, Starks, world, is, torn, apart, b...           133   \n",
            "48    [The, story, of, an, ancient, war, that, is, r...           518   \n",
            "61    [In, a, universe, where, human, genetic, mater...           192   \n",
            "67    [When, Susan, Murphy, is, unwittingly, clobber...           323   \n",
            "...                                                 ...           ...   \n",
            "4679  [Late, one, night, a, mysterious, car, is, bro...           344   \n",
            "4685  [An, impromptu, goodbye, party, for, Professor...           195   \n",
            "4740  [Two, rival, gangs, fight, for, control, of, F...           122   \n",
            "4752  [An, associative, collection, of, visual, impr...           220   \n",
            "4789  [A, wave, of, gruesome, murders, is, sweeping,...           329   \n",
            "\n",
            "                                       one_hot_overview  cluster_gmm  \n",
            "6     [0.0, 0.0, 0.0, 0.0, 0.0, 0.0, 0.0, 0.0, 0.0, ...            0  \n",
            "31    [0.0, 0.0, 0.0, 0.0, 0.0, 0.0, 0.0, 0.0, 0.0, ...            0  \n",
            "48    [0.0, 0.0, 0.0, 0.0, 0.0, 0.0, 0.0, 0.0, 0.0, ...            0  \n",
            "61    [0.0, 0.0, 0.0, 0.0, 0.0, 0.0, 0.0, 0.0, 0.0, ...            0  \n",
            "67    [0.0, 0.0, 0.0, 0.0, 0.0, 0.0, 0.0, 0.0, 0.0, ...            0  \n",
            "...                                                 ...          ...  \n",
            "4679  [0.0, 0.0, 0.0, 0.0, 0.0, 0.0, 0.0, 0.0, 0.0, ...            0  \n",
            "4685  [0.0, 0.0, 0.0, 0.0, 0.0, 0.0, 0.0, 0.0, 0.0, ...            0  \n",
            "4740  [0.0, 0.0, 0.0, 0.0, 0.0, 0.0, 0.0, 0.0, 0.0, ...            0  \n",
            "4752  [0.0, 0.0, 0.0, 0.0, 0.0, 0.0, 0.0, 0.0, 0.0, ...            0  \n",
            "4789  [0.0, 0.0, 0.0, 0.0, 0.0, 0.0, 0.0, 0.0, 0.0, ...            0  \n",
            "\n",
            "[214 rows x 9 columns]\n"
          ]
        }
      ],
      "source": [
        "from sklearn.mixture import GaussianMixture\n",
        "\n",
        "#decreased sample size bc everything was crashing.\n",
        "sample_size = 1000 \n",
        "df_sample = df.sample(n=sample_size, random_state=42)\n",
        "\n",
        "#x_train_sample = np.array(df_sample['one_hot_overview'])\n",
        "x_train_pca = pca.fit_transform(x_train_reshaped)\n",
        "\n",
        "n_clusters = 20\n",
        "gmm = GaussianMixture(n_components=n_clusters)\n",
        "gmm.fit(x_train_pca)\n",
        "cluster_labels = gmm.predict(x_train_pca)\n",
        "df[\"cluster_gmm\"] = cluster_labels\n",
        "\n",
        "\n",
        "cluster_0_elements = df[df[\"cluster_gmm\"] == 0]\n",
        "print(cluster_0_elements)"
      ]
    },
    {
      "cell_type": "markdown",
      "id": "95ed02d9",
      "metadata": {
        "id": "95ed02d9"
      },
      "source": [
        "**Q4.2** Does this clustering seem alright to you (based on your movie watching history)? Are there movies that go well together and movies that don't? How does this compare to K-Means Clustering?"
      ]
    },
    {
      "cell_type": "markdown",
      "id": "c62e20dd",
      "metadata": {
        "id": "c62e20dd"
      },
      "source": [
        "Seems good. We got, for instance, Iron Man and Monsters vs Aliens, which seem similar to me. Also similar to K-means."
      ]
    },
    {
      "cell_type": "markdown",
      "id": "3b0064a1",
      "metadata": {
        "id": "3b0064a1"
      },
      "source": [
        "**Q4.3** Let's check out the size of the clusters. Create a double bar plot (**as you did in the last assignment**) showing the different sizes of the clusters.\n",
        "\n",
        "*Hint: you may want to consider `df.value_counts()` if you're unfamiliar.*"
      ]
    },
    {
      "cell_type": "code",
      "execution_count": 18,
      "id": "e775ad4f",
      "metadata": {
        "colab": {
          "base_uri": "https://localhost:8080/",
          "height": 472
        },
        "id": "e775ad4f",
        "outputId": "a1c1e8ba-db70-4a24-97af-8c9d2a6ad1bd"
      },
      "outputs": [
        {
          "output_type": "display_data",
          "data": {
            "text/plain": [
              "<Figure size 640x480 with 1 Axes>"
            ],
            "image/png": "[encoded data removed]"
          },
          "metadata": {}
        }
      ],
      "source": [
        "#this is gonna be different for me bc I reduced the sample size in the last question, so things run better\n",
        "cluster_sizes = df[\"cluster_gmm\"].value_counts().sort_index()\n",
        "\n",
        "plt.bar(cluster_sizes.index, cluster_sizes.values)\n",
        "plt.xlabel(\"Cluster Label\")\n",
        "plt.ylabel(\"Cluster Size\")\n",
        "plt.title(\"Cluster Sizes\")\n",
        "plt.show()"
      ]
    },
    {
      "cell_type": "markdown",
      "id": "cfc124da",
      "metadata": {
        "id": "cfc124da"
      },
      "source": [
        "**Q4.4** Do you see a significant difference in the sizes of the clusters? Which is more uniform? Any thought on why?"
      ]
    },
    {
      "cell_type": "markdown",
      "id": "9f538519",
      "metadata": {
        "id": "9f538519"
      },
      "source": [
        "Yes, some clusters are way smaller than others. I imagine that is bc we are clustering with lots of Ks, allowing for small/niche categories of movies."
      ]
    },
    {
      "cell_type": "markdown",
      "id": "aa60615d",
      "metadata": {
        "id": "aa60615d"
      },
      "source": [
        "# Q6: A very simple recommender system\n",
        "\n",
        "One useful thing that clustering is often used for (though at a much greater complexity) is in **recommender systems**. These are systems with users and items (movies, files, documents, etc.), where new items are shown to the user based on what they've previously interacted with, and possibly also on the behaviour of other users.\n",
        "\n",
        "**Q6.1** Assume your dentist has just watched the movie Avatar and asks you for a recommendation. Lucky for you, you just finished this assignment. Using the cluster indices of the movie Avatar for both the K-means and GMM methods, print out suggestions for new movies."
      ]
    },
    {
      "cell_type": "code",
      "execution_count": 19,
      "id": "86a74f68",
      "metadata": {
        "colab": {
          "base_uri": "https://localhost:8080/"
        },
        "id": "86a74f68",
        "outputId": "726b9fdd-13d3-429f-c02e-6b97d311beb5"
      },
      "outputs": [
        {
          "output_type": "stream",
          "name": "stdout",
          "text": [
            "Similar movies based on GMM clustering:\n",
            "0                                         Avatar\n",
            "78                               The Jungle Book\n",
            "95                                  Interstellar\n",
            "138                           The Last Airbender\n",
            "244                                  San Andreas\n",
            "334                            Jurassic Park III\n",
            "452                                    Space Jam\n",
            "459             Spirit: Stallion of the Cimarron\n",
            "569     The SpongeBob Movie: Sponge Out of Water\n",
            "669                 Sin City: A Dame to Kill For\n",
            "1032                       America's Sweethearts\n",
            "1062                                A Bug's Life\n",
            "1097                                 Big Trouble\n",
            "1186                       The Final Destination\n",
            "1283                         The Hudsucker Proxy\n",
            "1328                                    The Town\n",
            "1330                          Burn After Reading\n",
            "1492                                  The Reader\n",
            "1531                                   Moonraker\n",
            "1700                     Florence Foster Jenkins\n",
            "1824                        The Face of an Angel\n",
            "1897                              Half Past Dead\n",
            "1938                                   Blindness\n",
            "2027                                    I Am Sam\n",
            "2486                                      Meteor\n",
            "2498                                        Good\n",
            "2575                       The Hills Have Eyes 2\n",
            "2781              In the Land of Blood and Honey\n",
            "2795                       The Prisoner of Zenda\n",
            "2968                          The Blue Butterfly\n",
            "2991                                     Oliver!\n",
            "3086                           Nicholas Nickleby\n",
            "3224                                       Limbo\n",
            "3238                                 Stand by Me\n",
            "3326                               Ta Ra Rum Pum\n",
            "3365                                A Single Man\n",
            "3405                          Dazed and Confused\n",
            "3451                                The Brothers\n",
            "3647                     Tucker and Dale vs Evil\n",
            "3657                                 The Cottage\n",
            "3683                 Pat Garrett & Billy the Kid\n",
            "3778                                      Zipper\n",
            "3821                            The History Boys\n",
            "3844                                Troll Hunter\n",
            "3922                                       Water\n",
            "3931      Thirteen Conversations About One Thing\n",
            "3983                            Some Like It Hot\n",
            "4051                    Friday the 13th Part III\n",
            "4067                                   Sharkskin\n",
            "4152                            Slacker Uprising\n",
            "4246                          The Lords of Salem\n",
            "4315                           The Wicked Within\n",
            "4321        Dracula: Pages from a Virgin's Diary\n",
            "4476                                   High Noon\n",
            "4536                                      Rubber\n",
            "4578                        Gory Gory Hallelujah\n",
            "4650                                        Rust\n",
            "4755                                  The Signal\n",
            "Name: title, dtype: object\n"
          ]
        }
      ],
      "source": [
        "prev_watch = \"Avatar\"\n",
        "\n",
        "#In the middle of the assigment, it crashed and I did not re-run the K-means part, to save time. Hence I could not run it here.\n",
        "#cluster_kmeans = df.loc[df[\"title\"] == prev_watch, \"cluster_kmeans\"].values[0]\n",
        "\n",
        "\n",
        "cluster_gmm = df.loc[df[\"title\"] == prev_watch, \"cluster_gmm\"].values[0]\n",
        "\n",
        "#similar_movies_kmeans = df[df[\"cluster_kmeans\"] == cluster_kmeans]\n",
        "#print(\"Similar movies based on K-means clustering:\")\n",
        "#print(similar_movies_kmeans[\"title\"])\n",
        "\n",
        "\n",
        "similar_movies_gmm = df[df[\"cluster_gmm\"] == cluster_gmm]\n",
        "print(\"Similar movies based on GMM clustering:\")\n",
        "print(similar_movies_gmm[\"title\"])"
      ]
    },
    {
      "cell_type": "markdown",
      "id": "4ecec1ff",
      "metadata": {
        "id": "4ecec1ff"
      },
      "source": [
        "**Q6.2** Are any of the two recommender systems any good? Would you use them if your real dentist asks for a movie suggestion?"
      ]
    },
    {
      "cell_type": "markdown",
      "id": "aae96b8a",
      "metadata": {
        "id": "aae96b8a"
      },
      "source": [
        "Recommendations make sense to me. I would use it."
      ]
    },
    {
      "cell_type": "markdown",
      "id": "92b84753",
      "metadata": {
        "id": "92b84753"
      },
      "source": [
        "**Q6.3** How would you try making the recommender systems better?"
      ]
    },
    {
      "cell_type": "markdown",
      "id": "40d3f6dd",
      "metadata": {
        "id": "40d3f6dd"
      },
      "source": [
        "Increase sample size, use more clusters (to allow for niche tastes) and gather longer overviews, that gives us more infor abou the movie."
      ]
    },
    {
      "cell_type": "markdown",
      "id": "7df2d34a",
      "metadata": {
        "id": "7df2d34a"
      },
      "source": [
        "**Q6.4** Say your dentist likes the movies you suggested and has watched a few more since you met him last. How would you incorporate this fact (recommendation based on multiple movies) into your suggestions?"
      ]
    },
    {
      "cell_type": "markdown",
      "id": "b3549de4",
      "metadata": {
        "id": "b3549de4"
      },
      "source": [
        "Since he watched from the ones that the program recommended, they should be in the same cluster. Therefore, recommendations would not change.\n",
        "I would allow for recommending movies from a cluster that is close to the one from which he watched."
      ]
    },
    {
      "cell_type": "markdown",
      "id": "f20b74ce",
      "metadata": {
        "id": "f20b74ce"
      },
      "source": [
        "**Q6.5** An alternative method for recommendations is to use your encoded movie-feature vectors (in this case your overview+PCA vector) in order to find out what movie may be most similar to the current one. In the case of K-Means and GMMs, \"similarity\" referred to Euclidean distance. However, in this exercise, we will use *cosine similarity*, which is another very common similarity measure, and is related to the angle between two vectors. It is defined as:\n",
        "\n",
        "$$sim(v_1, v_2)=\\frac{v_1\\cdot v_2}{||v_1||\\cdot||v_2||}$$\n",
        "\n",
        "Where $v_1$ and $v_2$ are vectors and the operator $||\\cdot||$ is the norm of the vector. The function ranges from $[-1,1]$ (where 1 means that the vectors point in the same direction).\n",
        "\n",
        "Define an appropriate function `cosine_sim`. Add a column called `cos_sim_to_avatar` in the df and print out the head of the df, sorted by the similarity. What movies would you recommend now? Is this better than the clustering methods?"
      ]
    },
    {
      "cell_type": "code",
      "execution_count": null,
      "id": "cedf60f3",
      "metadata": {
        "id": "cedf60f3"
      },
      "outputs": [],
      "source": [
        "def cosine_sim(v1, v2):\n",
        "    return ...\n",
        "\n",
        "# get overview_pca encoding of previously watched film\n",
        "prev_watch_enc = ...\n",
        "\n",
        "sims = [] # set up place to store similarities\n",
        "for i, row in df.iterrows():\n",
        "    sims.append(...)\n",
        "\n",
        "df[\"cos_sim_to_avatar\"] = ...\n",
        "df = df.sort_values(...) # sort df\n",
        "df # print to verify"
      ]
    },
    {
      "cell_type": "markdown",
      "id": "40391e82",
      "metadata": {
        "id": "40391e82"
      },
      "source": [
        "*Your text answer here*"
      ]
    },
    {
      "cell_type": "markdown",
      "id": "a7b1e343",
      "metadata": {
        "id": "a7b1e343"
      },
      "source": [
        "# Q7 Unsupervised Learning as a Tool\n",
        "\n",
        "At the end of this brief forey into natural language processing, we will end with an interesting task: can a machine predict the genre of a movie based purely on the first 10 words of its overview?\n",
        "\n",
        "First, the following cell shuffles the dataset and splits it into a training and test set. The random seed and random state ensure that the train and test samples are the same for you all the time, and *probably* your classmates too. You can verify this by printing out the dataframes and checking it for yourself."
      ]
    },
    {
      "cell_type": "code",
      "execution_count": null,
      "id": "f5b1bde1",
      "metadata": {
        "id": "f5b1bde1"
      },
      "outputs": [],
      "source": [
        "np.random.seed(0)\n",
        "n_train = int(0.8*len(df))\n",
        "df_shuffle = df.sample(frac=1, random_state=42).reset_index(drop=True)\n",
        "df_train = df_shuffle[:n_train].reset_index(drop=True)\n",
        "df_test = df_shuffle[n_train:].reset_index(drop=True)\n",
        "print(len(df_train), len(df_test))"
      ]
    },
    {
      "cell_type": "markdown",
      "id": "92f9d534",
      "metadata": {
        "id": "92f9d534"
      },
      "source": [
        "## Train, test, evaluate\n",
        "\n",
        "Using a supervised learning method of your choice, try predicting the genre of a movie from the overview. The way you preprocess your data is up to you, and you can take inspiration from the above exercises (e.g. PCA on the one-hot encodings as input, one-hot label encodings as output). There are a number of hyperparameters you can choose depending on your selected method (number of words in your overview, number of dimensions, number of clusters, hyperparameters of your supervised model...), thus, make sure to perform hyperparameter optimization in some way (grid-search, fine-tuning, etc). Once you are happy with how your model is performing, **print out the train_score (accuracy$\\in[0,1]$), test_score (accuracy$\\in[0,1]$), mean training time (in seconds), and mean inference time (in seconds) of your model**.\n",
        "\n",
        "If you are already excited about neural networks, you may also choose to use that as your supervised method. The easiest way to do it is with sklearn's `MLPClassifier` module. The main hyperparameter you would need to tune is the architecture of your model -- how many hidden layers, and how large is each one. For this task, in order to get best performance, you do not necessarily need an MLP (multi-layer perceptron) but feel free to experiment.\n",
        "\n",
        "*Hint: the `train_and_eval` function from the last assignment should be of great help here*"
      ]
    },
    {
      "cell_type": "code",
      "execution_count": null,
      "id": "e9ac379d",
      "metadata": {
        "id": "e9ac379d"
      },
      "outputs": [],
      "source": [
        "# your code here: feel free to add extra cells"
      ]
    },
    {
      "cell_type": "markdown",
      "id": "5976997e",
      "metadata": {
        "id": "5976997e"
      },
      "source": [
        "Write a paragraph of ~150 words about how you went about selecting and tuning your model, and how you may want to make improvements to your model if you were to continue working on this. Plots are very good but not strictly necessary (i.e. try to add plots if you can)."
      ]
    },
    {
      "cell_type": "markdown",
      "id": "54186a60",
      "metadata": {
        "id": "54186a60"
      },
      "source": [
        "*Your text answer here*"
      ]
    },
    {
      "cell_type": "markdown",
      "id": "14b50007",
      "metadata": {
        "id": "14b50007"
      },
      "source": [
        "# BONUS\n",
        "\n",
        "If you are happy with your score and wish to see how well it is doing with respect to other people (a sort of mini-competition), fill out the following form with the train_score (accuracy$\\in[0,1]$), test_score (accuracy$\\in[0,1]$), mean training time (in seconds), and mean inference time (in seconds) of your model, as well as what method you use. You can submit as many times before the deadline as you wish. Your final results will be correlated with your submission in order to validate your results (if we cannot validate them, they will be immediately disqualified).\n",
        "\n",
        "[FORM HERE](https://forms.gle/rXRtXScABH5oDLRWA)"
      ]
    }
  ],
  "metadata": {
    "kernelspec": {
      "display_name": "Python 3 (ipykernel)",
      "language": "python",
      "name": "python3"
    },
    "language_info": {
      "codemirror_mode": {
        "name": "ipython",
        "version": 3
      },
      "file_extension": ".py",
      "mimetype": "text/x-python",
      "name": "python",
      "nbconvert_exporter": "python",
      "pygments_lexer": "ipython3",
      "version": "3.10.7"
    },
    "colab": {
      "provenance": []
    }
  },
  "nbformat": 4,
  "nbformat_minor": 5
}